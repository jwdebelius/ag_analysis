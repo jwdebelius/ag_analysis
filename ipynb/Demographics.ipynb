{
 "cells": [
  {
   "cell_type": "markdown",
   "metadata": {},
   "source": [
    "**Author**: Justine Debelius<br>\n",
    "**email**: jdebelius@ucsd.edu<br>\n",
    "**enviroment**: agp_2017<br>\n",
    "**Date**: 25 May 2017"
   ]
  },
  {
   "cell_type": "markdown",
   "metadata": {},
   "source": [
    "The goal of this notebook is to provide demographic summaries for participants in the American Gut and associated projects. We look at metadata, and summarize the available information.\n",
    "\n",
    "The information generated here will be used for table 1 of the American Gut paper.\n",
    "\n",
    "We'll start by importing the necessary libraries."
   ]
  },
  {
   "cell_type": "code",
   "execution_count": 1,
   "metadata": {
    "collapsed": true
   },
   "outputs": [],
   "source": [
    "from functools import partial\n",
    "\n",
    "import matplotlib.pyplot as plt\n",
    "import numpy as np\n",
    "import pandas as pd\n",
    "\n",
    "import biom"
   ]
  },
  {
   "cell_type": "markdown",
   "metadata": {},
   "source": [
    "We're going to load the mapping file downloaded from Qiita and merged with all samples."
   ]
  },
  {
   "cell_type": "code",
   "execution_count": 2,
   "metadata": {
    "collapsed": true
   },
   "outputs": [],
   "source": [
    "map_ = pd.read_csv('../01.justine_packaging/01.metadata/ag_full_map.txt', sep='\\t', dtype=str)\n",
    "sotu = biom.load_table('../01.justine_packaging/02.raw_tables/otu_table_no_blooms_125nt_with_tax_min1250.biom')"
   ]
  },
  {
   "cell_type": "markdown",
   "metadata": {},
   "source": [
    "We'll then select a single instance of a sample, since some samples have been sequenced multiple times."
   ]
  },
  {
   "cell_type": "code",
   "execution_count": 3,
   "metadata": {
    "collapsed": false
   },
   "outputs": [],
   "source": [
    "single_rep = map_.copy().drop_duplicates('original_sample_name')\n",
    "single_rep.set_index('original_sample_name', inplace=True)"
   ]
  },
  {
   "cell_type": "markdown",
   "metadata": {},
   "source": [
    "We'll add a column describing the sequencing depth for samples that survived rarefaction at 1250 sequences/sample."
   ]
  },
  {
   "cell_type": "code",
   "execution_count": 4,
   "metadata": {
    "collapsed": false
   },
   "outputs": [],
   "source": [
    "single_rep = single_rep.join(pd.Series(sotu.sum('sample'), index=sotu.ids('sample'), name='seq_depth'))"
   ]
  },
  {
   "cell_type": "markdown",
   "metadata": {},
   "source": [
    "We'll start by checking the number of participants and the number of blanks."
   ]
  },
  {
   "cell_type": "code",
   "execution_count": 5,
   "metadata": {
    "collapsed": false
   },
   "outputs": [
    {
     "name": "stdout",
     "output_type": "stream",
     "text": [
      "There are 1906 blanks\n",
      "There are 11336 particiants\n",
      "There are 10498 participants with at least 1 sample with 1250 sequences/sample.\n"
     ]
    }
   ],
   "source": [
    "blanks = single_rep.index[single_rep['body_habitat'] == 'not applicable']\n",
    "print('There are %i blanks' % len(blanks))\n",
    "humans = single_rep.drop(blanks)\n",
    "print('There are %i particiants' % len(humans['host_subject_id'].value_counts()))\n",
    "print('There are %i participants with at least 1 sample with 1250 sequences/sample.' \n",
    "      % np.sum(humans.groupby('host_subject_id').count()['seq_depth'] > 0))"
   ]
  },
  {
   "cell_type": "markdown",
   "metadata": {},
   "source": [
    "We'll do the same calculation for the American Gut Project.\n",
    "\n",
    "We'll use the field, BODY_HABITAT to identify where the sample was collected. We'll also infer that if no value is supplied for BODY_HABITAT, then we will assume it's a blank. We'll use a helper function to rename the values in BODY_HABITAT so the look clean."
   ]
  },
  {
   "cell_type": "code",
   "execution_count": 6,
   "metadata": {
    "collapsed": false
   },
   "outputs": [],
   "source": [
    "def habitat_clean(x):\n",
    "    if x in {'not applicable'}:\n",
    "        return 'Blank'\n",
    "    else:\n",
    "        return x.split(' ')[0].replace('UBERON:', '').title()\n",
    "\n",
    "single_rep['body_habitat'] = single_rep['body_habitat'].apply(habitat_clean)"
   ]
  },
  {
   "cell_type": "markdown",
   "metadata": {},
   "source": [
    "We'll count the number of times a person has a type of sample and then use that to build a matrix comparing the counts."
   ]
  },
  {
   "cell_type": "code",
   "execution_count": 7,
   "metadata": {
    "collapsed": false
   },
   "outputs": [],
   "source": [
    "site_counts = pd.DataFrame(single_rep.groupby(['body_habitat', 'host_subject_id']).count()[['barcode', 'seq_depth']])\n",
    "site_counts.reset_index(inplace=True)"
   ]
  },
  {
   "cell_type": "code",
   "execution_count": 8,
   "metadata": {
    "collapsed": false
   },
   "outputs": [
    {
     "data": {
      "text/plain": [
       "body_habitat\n",
       "Blank       217\n",
       "Ear          36\n",
       "Eye          40\n",
       "Feces     11689\n",
       "Hair         15\n",
       "Nose        179\n",
       "Oral        984\n",
       "Skin        779\n",
       "Vagina       31\n",
       "Name: seq_depth, dtype: int64"
      ]
     },
     "execution_count": 8,
     "metadata": {},
     "output_type": "execute_result"
    }
   ],
   "source": [
    "site_counts.groupby('body_habitat').sum()['seq_depth']"
   ]
  },
  {
   "cell_type": "code",
   "execution_count": 9,
   "metadata": {
    "collapsed": false
   },
   "outputs": [
    {
     "data": {
      "text/html": [
       "<div>\n",
       "<table border=\"1\" class=\"dataframe\">\n",
       "  <thead>\n",
       "    <tr style=\"text-align: right;\">\n",
       "      <th></th>\n",
       "      <th>AG Participants</th>\n",
       "      <th>AG Samples</th>\n",
       "      <th>Samples over 1250</th>\n",
       "    </tr>\n",
       "  </thead>\n",
       "  <tbody>\n",
       "    <tr>\n",
       "      <th>Feces</th>\n",
       "      <td>11005.0</td>\n",
       "      <td>12829</td>\n",
       "      <td>11689</td>\n",
       "    </tr>\n",
       "    <tr>\n",
       "      <th>Oral</th>\n",
       "      <td>849.0</td>\n",
       "      <td>1036</td>\n",
       "      <td>984</td>\n",
       "    </tr>\n",
       "    <tr>\n",
       "      <th>Skin</th>\n",
       "      <td>359.0</td>\n",
       "      <td>900</td>\n",
       "      <td>779</td>\n",
       "    </tr>\n",
       "    <tr>\n",
       "      <th>Nose</th>\n",
       "      <td>80.0</td>\n",
       "      <td>192</td>\n",
       "      <td>179</td>\n",
       "    </tr>\n",
       "    <tr>\n",
       "      <th>Eye</th>\n",
       "      <td>37.0</td>\n",
       "      <td>43</td>\n",
       "      <td>40</td>\n",
       "    </tr>\n",
       "    <tr>\n",
       "      <th>Ear</th>\n",
       "      <td>34.0</td>\n",
       "      <td>40</td>\n",
       "      <td>36</td>\n",
       "    </tr>\n",
       "    <tr>\n",
       "      <th>Vagina</th>\n",
       "      <td>31.0</td>\n",
       "      <td>39</td>\n",
       "      <td>31</td>\n",
       "    </tr>\n",
       "    <tr>\n",
       "      <th>Hair</th>\n",
       "      <td>15.0</td>\n",
       "      <td>18</td>\n",
       "      <td>15</td>\n",
       "    </tr>\n",
       "    <tr>\n",
       "      <th>Blank</th>\n",
       "      <td>NaN</td>\n",
       "      <td>1906</td>\n",
       "      <td>217</td>\n",
       "    </tr>\n",
       "  </tbody>\n",
       "</table>\n",
       "</div>"
      ],
      "text/plain": [
       "        AG Participants  AG Samples  Samples over 1250\n",
       "Feces           11005.0       12829              11689\n",
       "Oral              849.0        1036                984\n",
       "Skin              359.0         900                779\n",
       "Nose               80.0         192                179\n",
       "Eye                37.0          43                 40\n",
       "Ear                34.0          40                 36\n",
       "Vagina             31.0          39                 31\n",
       "Hair               15.0          18                 15\n",
       "Blank               NaN        1906                217"
      ]
     },
     "execution_count": 9,
     "metadata": {},
     "output_type": "execute_result"
    }
   ],
   "source": [
    "ag_participants = pd.DataFrame({'AG Participants': site_counts['body_habitat'].value_counts(),\n",
    "                                'AG Samples': site_counts.groupby('body_habitat').sum()['barcode'],\n",
    "                                'Samples over 1250': site_counts.groupby('body_habitat').sum()['seq_depth']}\n",
    "                                )\n",
    "ag_participants.loc['Blank', ['AG Participants']] = np.nan\n",
    "ag_participants.sort_values('AG Participants', inplace=True, ascending=False)\n",
    "ag_participants"
   ]
  },
  {
   "cell_type": "code",
   "execution_count": 10,
   "metadata": {
    "collapsed": false
   },
   "outputs": [
    {
     "data": {
      "text/plain": [
       "AG Participants      12410.0\n",
       "AG Samples           15097.0\n",
       "Samples over 1250    13753.0\n",
       "dtype: float64"
      ]
     },
     "execution_count": 10,
     "metadata": {},
     "output_type": "execute_result"
    }
   ],
   "source": [
    "ag_participants.iloc[:-1].sum()"
   ]
  },
  {
   "cell_type": "markdown",
   "metadata": {},
   "source": [
    "Next, we'll look at the geographic distribution of participants."
   ]
  },
  {
   "cell_type": "code",
   "execution_count": 11,
   "metadata": {
    "collapsed": false
   },
   "outputs": [
    {
     "name": "stdout",
     "output_type": "stream",
     "text": [
      "There are participants from at least 46 countries.\n",
      "16 participants did not supply a country.\n",
      "\n",
      "                                      dummy  seq_depth\n",
      "country                                               \n",
      "USA                                   10798       9765\n",
      "United Kingdom                         2903       2692\n",
      "Australia                               349        329\n",
      "Canada                                  320        296\n",
      "Belgium                                 103         95\n",
      "Ireland                                  84         82\n",
      "Switzerland                              74         69\n",
      "Morocco                                  70         61\n",
      "Germany                                  63         56\n",
      "France                                   45         43\n",
      "Sweden                                   34         31\n",
      "Netherlands                              27         22\n",
      "Norway                                   25         23\n",
      "not applicable                           23         20\n",
      "Italy                                    18         16\n",
      "Denmark                                  15         14\n",
      "Czech Republic                           14         14\n",
      "New Zealand                              13         13\n",
      "Austria                                  10         10\n",
      "Thailand                                 10          9\n",
      "Japan                                     9          7\n",
      "Spain                                     9          8\n",
      "Serbia                                    5          5\n",
      "Finland                                   4          3\n",
      "Oman                                      4          4\n",
      "Hong Kong                                 4          4\n",
      "Slovakia                                  4          4\n",
      "Isle of Man                               4          4\n",
      "China                                     4          4\n",
      "Portugal                                  4          4\n",
      "United Arab Emirates                      3          3\n",
      "Singapore                                 3          3\n",
      "Poland                                    3          3\n",
      "Jersey                                    3          3\n",
      "Puerto Rico                               2          2\n",
      "India                                     2          2\n",
      "Georgia                                   2          2\n",
      "Croatia                                   2          2\n",
      "Israel                                    2          2\n",
      "Greece                                    2          2\n",
      "Brazil                                    2          2\n",
      "Latvia                                    2          2\n",
      "Romania                                   1          1\n",
      "Malta                                     1          1\n",
      "Indonesia                                 1          1\n",
      "United States Minor Outlying Islands      1          1\n"
     ]
    }
   ],
   "source": [
    "humans['dummy'] = 1\n",
    "humans.replace('Unspecified', np.nan, inplace=True)\n",
    "humans.replace({'country': {'not applicable', np.nan},\n",
    "                'state': {'not applicable', np.nan}}, inplace=True)\n",
    "countries = humans.groupby('country').count()[['dummy', 'seq_depth']].sort_values('dummy', ascending=False)\n",
    "\n",
    "print('There are participants from at least %i countries.' % len(countries))\n",
    "print('%i participants did not supply a country.\\n' % np.sum(pd.isnull(humans['country'])))\n",
    "print(countries)"
   ]
  },
  {
   "cell_type": "markdown",
   "metadata": {},
   "source": [
    "We'll next compare the American, British, and Canadian populations based on age, bmi, sex, last antibiotic use, and racial make up."
   ]
  },
  {
   "cell_type": "code",
   "execution_count": 13,
   "metadata": {
    "collapsed": true
   },
   "outputs": [],
   "source": [
    "humans[['age_corrected', 'bmi_corrected']] = humans[['age_corrected', 'bmi_corrected']].astype(float)"
   ]
  },
  {
   "cell_type": "code",
   "execution_count": 14,
   "metadata": {
    "collapsed": false
   },
   "outputs": [],
   "source": [
    "nationalism = humans.loc[humans['country'].apply(lambda x: x in {'USA', 'United Kingdom'})].copy()\n",
    "nationalism.loc[nationalism['age_corrected'] > 102] = np.nan"
   ]
  },
  {
   "cell_type": "markdown",
   "metadata": {},
   "source": [
    "Finally, we're going to compare Americans to avaliable summary statistics.\n",
    "We're going to look at sex, race, smoking, Diabetes and Inflammatory Bowel disease diagnosis, and Body Mass index. To do this, we're going to reformat some of the responses about age."
   ]
  },
  {
   "cell_type": "code",
   "execution_count": 13,
   "metadata": {
    "collapsed": false
   },
   "outputs": [],
   "source": [
    "def mapper(mapping, value):\n",
    "    return mapping.get(value, value)\n",
    "\n",
    "diabetes_values_fix = {'I do not have this condition': 'I do not have diabetes',\n",
    "                       'Diagnosed by a medical professional (doctor, physician assistant)': 'I have diabetes',\n",
    "                       \"Diagnosed by an alternative medicine practitioner\": \"I have diabetes\",\n",
    "                       'Type I': 'I have diabetes',\n",
    "                       'Type II': 'I have diabetes',\n",
    "                       'Self-diagnosed': 'I have diabetes'}\n",
    "\n",
    "ibd_values_fix = {\"Crohn's disease\": \"I have an IBD\",\n",
    "                  \"Diagnosed by a medical professional (doctor, physician assistant)\": \"I have IBD\",\n",
    "                  \"Diagnosed by an alternative medicine practitioner\": \"I have IBD\",\n",
    "                  \"I do not have this condition\": \"I do not have IBD\",\n",
    "                  \"I do not have IBD\": \"I do not have IBD\",\n",
    "                  \"Ulcerative colitis\": \"I have IBD\",\n",
    "                  \"Self-diagnosed\": \"I have IBD\"}\n",
    "\n",
    "smoking_values_fix = {'Daily': 'I smoke',\n",
    "                      'Never': 'I do not smoke',\n",
    "                      'Occasionally (1-2 times/week)': 'I smoke',\n",
    "                      'Rarely (a few times/month)': 'I smoke',\n",
    "                      'Rarely (few times/month)': 'I smoke',\n",
    "                      'Regularly (3-5 times/week)': 'I smoke'}\n",
    "\n",
    "education_values_fix = {'Did not complete high school': 'Did not complete high school',\n",
    "                        'High School or GED equilivant': 'High School or GED equilivant',\n",
    "                        'Some college or technical school': 'Some college or technical school',\n",
    "                        \"Associate's degree\": \"Associate's degree\",\n",
    "                        \"Bachelor's degree\": \"Bachelor's degree\",\n",
    "                        \"Some graduate school or professional\": \"Bachelor's degree\",\n",
    "                        \"Graduate or Professional degree\": \"Graduate or Professional degree\"\n",
    "                        }\n",
    "\n",
    "diabetes_map = partial(mapper, diabetes_values_fix)\n",
    "ibd_map = partial(mapper, ibd_values_fix)\n",
    "smoke_map = partial(mapper, smoking_values_fix)\n",
    "education_map = partial(mapper, education_values_fix)\n",
    "\n",
    "nationalism['diabetes'] = nationalism['diabetes'].apply(diabetes_map)\n",
    "nationalism['ibd'] = nationalism['ibd'].apply(ibd_map)\n",
    "nationalism['smoking_frequency'] = nationalism['smoking_frequency'].apply(smoke_map)\n",
    "nationalism['level_of_education'] = nationalism['level_of_education'].apply(education_map)"
   ]
  },
  {
   "cell_type": "markdown",
   "metadata": {},
   "source": [
    "We exclude BMI categorization for anyone under the age of 18. According to the World Health Organization (WHO), BMI for children under 18 must be calculated based on their age and gender."
   ]
  },
  {
   "cell_type": "code",
   "execution_count": 14,
   "metadata": {
    "collapsed": false
   },
   "outputs": [],
   "source": [
    "nationalism.loc[nationalism['age_corrected'] < 18, 'bmi_cat'] = np.nan\n",
    "nationalism.loc[nationalism['age_corrected'] < 25, 'level_of_education'] = np.nan"
   ]
  },
  {
   "cell_type": "code",
   "execution_count": 15,
   "metadata": {
    "collapsed": true
   },
   "outputs": [],
   "source": [
    "def age_mod(x):\n",
    "    if pd.isnull(x):\n",
    "        return x\n",
    "    elif x < 5:\n",
    "        return 'Less than 5'\n",
    "    elif x < 10:\n",
    "        return '5 - 10'\n",
    "    elif x < 20:\n",
    "        return '11 - 20'\n",
    "    elif x < 30:\n",
    "        return '21 - 30'\n",
    "    elif x < 40:\n",
    "        return '31 - 40'\n",
    "    elif x < 50:\n",
    "        return '41 - 50'\n",
    "    elif x < 60:\n",
    "        return '51 - 60'\n",
    "    elif x < 70:\n",
    "        return '61 - 70'\n",
    "    elif x < 80:\n",
    "        return '71 - 80'\n",
    "    else:\n",
    "        return 'Older than 80'"
   ]
  },
  {
   "cell_type": "code",
   "execution_count": 16,
   "metadata": {
    "collapsed": true
   },
   "outputs": [],
   "source": [
    "nationalism['age_mod'] = nationalism['age_corrected'].apply(age_mod)"
   ]
  },
  {
   "cell_type": "code",
   "execution_count": 17,
   "metadata": {
    "collapsed": true
   },
   "outputs": [],
   "source": [
    "americans = nationalism.loc[nationalism['country'] == 'USA'].copy()"
   ]
  },
  {
   "cell_type": "code",
   "execution_count": 18,
   "metadata": {
    "collapsed": false
   },
   "outputs": [],
   "source": [
    "res_table = {}\n",
    "n_samples = float(len(nationalism))\n",
    "cats = ['country', 'sex', 'race', 'smoking_frequency', 'diabetes', 'ibd', 'bmi_cat', 'age_mod', 'level_of_education']\n",
    "\n",
    "for cat in cats[1:]:\n",
    "    # drop out any null values\n",
    "    cat_tab = nationalism[cat].dropna()\n",
    "    \n",
    "    cat_counts = pd.DataFrame([cat_tab.value_counts(), cat_tab.value_counts(normalize=True) * 100],\n",
    "                               index=['counts', 'percentage']).to_dict()\n",
    "\n",
    "    for group, fracs in cat_counts.items():\n",
    "        res_table[(cat.upper(), group)] = fracs\n",
    "\n",
    "res = pd.DataFrame.from_dict(res_table, orient='index')"
   ]
  },
  {
   "cell_type": "markdown",
   "metadata": {},
   "source": [
    "We can compare our summary results to data form the US census"
   ]
  },
  {
   "cell_type": "code",
   "execution_count": 23,
   "metadata": {
    "collapsed": false
   },
   "outputs": [],
   "source": [
    "# Category/value : percent in US population \n",
    "census_data = {\n",
    "               # sex (2010 census)\n",
    "               #https://www.census.gov/prod/cen2010/briefs/c2010br-03.pdf\n",
    "               ('SEX', 'female'): 50.1,\n",
    "               ('SEX', 'male'): 49.1,  # this is an over estimate as only the % of females is described in the above URL\n",
    "               ('SEX', 'other'): 0.03,  # does not appear to be tracked\n",
    "    \n",
    "               # Participant ages (2010 census)\n",
    "               # https://www.census.gov/prod/cen2010/briefs/c2010br-03.pdf\n",
    "               ('AGE_MOD', 'Less than 5'): (20201362 / 308745538) * 100,\n",
    "               ('AGE_MOD', '5 - 10'): (20348657 / 308745538) * 100,\n",
    "               ('AGE_MOD', '11 - 20'): ((20677194 + 22040343) / 308745538) * 100,\n",
    "               ('AGE_MOD', '21 - 30'): ((21585999 + 21101849) / 308745538) * 100,\n",
    "               ('AGE_MOD', '31 - 40'): ((19962099 + 20179642) / 308745538) * 100,\n",
    "               ('AGE_MOD', '41 - 50'): ((20890964 + 22708591) / 308745538) * 100,\n",
    "               ('AGE_MOD', '51 - 60'): ((22298125 + 19664805) / 308745538) * 100,\n",
    "               ('AGE_MOD', '61 - 70'): ((16817924 + 12435263) / 308745538) * 100,\n",
    "               ('AGE_MOD', '71 - 80'): ((9278166 + 7317795) / 308745538) * 100,\n",
    "               ('AGE_MOD', 'Older than 80'): ((5743327 + 3620459 + 1448366 + 371244 + 53364) / 308745538) * 100,               \n",
    "               \n",
    "               # Participant race (2010 census)\n",
    "               # from http://www.census.gov/prod/cen2010/briefs/c2010br-02.pdf\n",
    "               # doesn't sum to 100% as the fields don't map exactly, so there may be some overlap represented below\n",
    "               ('RACE', 'African American'): 12.6,\n",
    "               ('RACE', 'Asian or Pacific Islander'): 5.0,\n",
    "               ('RACE', 'Caucasian'): 63.7,\n",
    "               ('RACE', 'Hispanic'): 16.3,\n",
    "               ('RACE', 'Other'): 6.2,\n",
    "    \n",
    "               # Education (2015 census bureau)\n",
    "               # from https://www.census.gov/content/dam/Census/library/publications/2016/demo/p20-578.pdf\n",
    "               ('LEVEL_OF_EDUCATION', 'Did not complete high school'): 11.6,\n",
    "               ('LEVEL_OF_EDUCATION', 'High School or GED equilivant'): 29.6,\n",
    "               ('LEVEL_OF_EDUCATION', 'Some college or technical school'): 16.6,\n",
    "               ('LEVEL_OF_EDUCATION', \"Associate's degree\"): 9.8,\n",
    "               ('LEVEL_OF_EDUCATION', \"Bachelor's degree\"): 20.5,\n",
    "               ('LEVEL_OF_EDUCATION', 'Graduate or Professional degree'): 12.0,\n",
    " \n",
    "#                ###### we probably want to filter to > 20yo for these values in the metadata\n",
    "#                # https://www.cdc.gov/nchs/data/hus/2015/058.pdf\n",
    "                ('BMI_CAT', 'Normal'): 28.9,\n",
    "                ('BMI_CAT', 'Overweight'): 69.5 - 36.4,\n",
    "                ('BMI_CAT', 'Obese'): 36.4,\n",
    "                ('BMI_CAT', 'Underweight'): (100 - 28.9 - 69.5),\n",
    "\n",
    "               # from PMID 27144261\n",
    "               ('DIABETES', 'I do not have diabetes'): 90.7,\n",
    "               ('DIABETES', 'I have diabetes'): 9.3, # This uses 21 million \n",
    "\n",
    "               # from http://www.cdc.gov/ibd/ibd-epidemiology.htm\n",
    "               ('IBD', 'I do not have IBD'): 99.6,\n",
    "               ('IBD', 'I have IBD'): 0.4,\n",
    "          \n",
    "               # from https://www.cdc.gov/mmwr/volumes/65/wr/mm6544a2.htm?s_cid=mm6544a2_w\n",
    "               ('SMOKING_FREQUENCY', 'I do not smoke'): 84.9,\n",
    "               ('SMOKING_FREQUENCY', 'I smoke'): 15.1,\n",
    "}\n",
    "\n",
    "res['US Census/CDC/NHANES data percentages'] = pd.DataFrame.from_dict(census_data, orient='index')"
   ]
  },
  {
   "cell_type": "code",
   "execution_count": 24,
   "metadata": {
    "collapsed": false
   },
   "outputs": [
    {
     "data": {
      "text/html": [
       "<div>\n",
       "<table border=\"1\" class=\"dataframe\">\n",
       "  <thead>\n",
       "    <tr style=\"text-align: right;\">\n",
       "      <th></th>\n",
       "      <th></th>\n",
       "      <th>counts</th>\n",
       "      <th>percentage</th>\n",
       "      <th>US Census/CDC/NHANES data percentages</th>\n",
       "    </tr>\n",
       "  </thead>\n",
       "  <tbody>\n",
       "    <tr>\n",
       "      <th rowspan=\"10\" valign=\"top\">AGE_MOD</th>\n",
       "      <th>11 - 20</th>\n",
       "      <td>427.0</td>\n",
       "      <td>3.250856</td>\n",
       "      <td>13.835839</td>\n",
       "    </tr>\n",
       "    <tr>\n",
       "      <th>21 - 30</th>\n",
       "      <td>1510.0</td>\n",
       "      <td>11.496003</td>\n",
       "      <td>13.826223</td>\n",
       "    </tr>\n",
       "    <tr>\n",
       "      <th>31 - 40</th>\n",
       "      <td>2707.0</td>\n",
       "      <td>20.609060</td>\n",
       "      <td>13.001561</td>\n",
       "    </tr>\n",
       "    <tr>\n",
       "      <th>41 - 50</th>\n",
       "      <td>2397.0</td>\n",
       "      <td>18.248953</td>\n",
       "      <td>14.121517</td>\n",
       "    </tr>\n",
       "    <tr>\n",
       "      <th>5 - 10</th>\n",
       "      <td>246.0</td>\n",
       "      <td>1.872859</td>\n",
       "      <td>6.590753</td>\n",
       "    </tr>\n",
       "    <tr>\n",
       "      <th>51 - 60</th>\n",
       "      <td>2571.0</td>\n",
       "      <td>19.573658</td>\n",
       "      <td>13.591429</td>\n",
       "    </tr>\n",
       "    <tr>\n",
       "      <th>61 - 70</th>\n",
       "      <td>2247.0</td>\n",
       "      <td>17.106966</td>\n",
       "      <td>9.474853</td>\n",
       "    </tr>\n",
       "    <tr>\n",
       "      <th>71 - 80</th>\n",
       "      <td>704.0</td>\n",
       "      <td>5.359726</td>\n",
       "      <td>5.375288</td>\n",
       "    </tr>\n",
       "    <tr>\n",
       "      <th>Less than 5</th>\n",
       "      <td>239.0</td>\n",
       "      <td>1.819566</td>\n",
       "      <td>6.543046</td>\n",
       "    </tr>\n",
       "    <tr>\n",
       "      <th>Older than 80</th>\n",
       "      <td>87.0</td>\n",
       "      <td>0.662352</td>\n",
       "      <td>3.639489</td>\n",
       "    </tr>\n",
       "    <tr>\n",
       "      <th rowspan=\"4\" valign=\"top\">BMI_CAT</th>\n",
       "      <th>Normal</th>\n",
       "      <td>6973.0</td>\n",
       "      <td>60.745710</td>\n",
       "      <td>28.900000</td>\n",
       "    </tr>\n",
       "    <tr>\n",
       "      <th>Obese</th>\n",
       "      <td>1206.0</td>\n",
       "      <td>10.506142</td>\n",
       "      <td>36.400000</td>\n",
       "    </tr>\n",
       "    <tr>\n",
       "      <th>Overweight</th>\n",
       "      <td>2983.0</td>\n",
       "      <td>25.986584</td>\n",
       "      <td>33.100000</td>\n",
       "    </tr>\n",
       "    <tr>\n",
       "      <th>Underweight</th>\n",
       "      <td>317.0</td>\n",
       "      <td>2.761565</td>\n",
       "      <td>1.600000</td>\n",
       "    </tr>\n",
       "    <tr>\n",
       "      <th rowspan=\"2\" valign=\"top\">DIABETES</th>\n",
       "      <th>I do not have diabetes</th>\n",
       "      <td>12861.0</td>\n",
       "      <td>98.461185</td>\n",
       "      <td>90.700000</td>\n",
       "    </tr>\n",
       "    <tr>\n",
       "      <th>I have diabetes</th>\n",
       "      <td>201.0</td>\n",
       "      <td>1.538815</td>\n",
       "      <td>9.300000</td>\n",
       "    </tr>\n",
       "    <tr>\n",
       "      <th rowspan=\"2\" valign=\"top\">IBD</th>\n",
       "      <th>I do not have IBD</th>\n",
       "      <td>12188.0</td>\n",
       "      <td>95.991179</td>\n",
       "      <td>99.600000</td>\n",
       "    </tr>\n",
       "    <tr>\n",
       "      <th>I have IBD</th>\n",
       "      <td>509.0</td>\n",
       "      <td>4.008821</td>\n",
       "      <td>0.400000</td>\n",
       "    </tr>\n",
       "    <tr>\n",
       "      <th rowspan=\"6\" valign=\"top\">LEVEL_OF_EDUCATION</th>\n",
       "      <th>Associate's degree</th>\n",
       "      <td>190.0</td>\n",
       "      <td>2.483660</td>\n",
       "      <td>9.800000</td>\n",
       "    </tr>\n",
       "    <tr>\n",
       "      <th>Bachelor's degree</th>\n",
       "      <td>2724.0</td>\n",
       "      <td>35.607843</td>\n",
       "      <td>20.500000</td>\n",
       "    </tr>\n",
       "    <tr>\n",
       "      <th>Did not complete high school</th>\n",
       "      <td>32.0</td>\n",
       "      <td>0.418301</td>\n",
       "      <td>11.600000</td>\n",
       "    </tr>\n",
       "    <tr>\n",
       "      <th>Graduate or Professional degree</th>\n",
       "      <td>3893.0</td>\n",
       "      <td>50.888889</td>\n",
       "      <td>12.000000</td>\n",
       "    </tr>\n",
       "    <tr>\n",
       "      <th>High School or GED equilivant</th>\n",
       "      <td>188.0</td>\n",
       "      <td>2.457516</td>\n",
       "      <td>29.600000</td>\n",
       "    </tr>\n",
       "    <tr>\n",
       "      <th>Some college or technical school</th>\n",
       "      <td>623.0</td>\n",
       "      <td>8.143791</td>\n",
       "      <td>16.600000</td>\n",
       "    </tr>\n",
       "    <tr>\n",
       "      <th rowspan=\"5\" valign=\"top\">RACE</th>\n",
       "      <th>African American</th>\n",
       "      <td>92.0</td>\n",
       "      <td>0.690017</td>\n",
       "      <td>12.600000</td>\n",
       "    </tr>\n",
       "    <tr>\n",
       "      <th>Asian or Pacific Islander</th>\n",
       "      <td>692.0</td>\n",
       "      <td>5.190130</td>\n",
       "      <td>5.000000</td>\n",
       "    </tr>\n",
       "    <tr>\n",
       "      <th>Caucasian</th>\n",
       "      <td>11888.0</td>\n",
       "      <td>89.162229</td>\n",
       "      <td>63.700000</td>\n",
       "    </tr>\n",
       "    <tr>\n",
       "      <th>Hispanic</th>\n",
       "      <td>286.0</td>\n",
       "      <td>2.145054</td>\n",
       "      <td>16.300000</td>\n",
       "    </tr>\n",
       "    <tr>\n",
       "      <th>Other</th>\n",
       "      <td>375.0</td>\n",
       "      <td>2.812570</td>\n",
       "      <td>6.200000</td>\n",
       "    </tr>\n",
       "    <tr>\n",
       "      <th rowspan=\"3\" valign=\"top\">SEX</th>\n",
       "      <th>female</th>\n",
       "      <td>6815.0</td>\n",
       "      <td>52.406952</td>\n",
       "      <td>50.100000</td>\n",
       "    </tr>\n",
       "    <tr>\n",
       "      <th>male</th>\n",
       "      <td>6174.0</td>\n",
       "      <td>47.477699</td>\n",
       "      <td>49.100000</td>\n",
       "    </tr>\n",
       "    <tr>\n",
       "      <th>other</th>\n",
       "      <td>15.0</td>\n",
       "      <td>0.115349</td>\n",
       "      <td>NaN</td>\n",
       "    </tr>\n",
       "    <tr>\n",
       "      <th rowspan=\"2\" valign=\"top\">SMOKING_FREQUENCY</th>\n",
       "      <th>I do not smoke</th>\n",
       "      <td>12376.0</td>\n",
       "      <td>93.038641</td>\n",
       "      <td>84.900000</td>\n",
       "    </tr>\n",
       "    <tr>\n",
       "      <th>I smoke</th>\n",
       "      <td>926.0</td>\n",
       "      <td>6.961359</td>\n",
       "      <td>15.100000</td>\n",
       "    </tr>\n",
       "  </tbody>\n",
       "</table>\n",
       "</div>"
      ],
      "text/plain": [
       "                                                      counts  percentage  \\\n",
       "AGE_MOD            11 - 20                             427.0    3.250856   \n",
       "                   21 - 30                            1510.0   11.496003   \n",
       "                   31 - 40                            2707.0   20.609060   \n",
       "                   41 - 50                            2397.0   18.248953   \n",
       "                   5 - 10                              246.0    1.872859   \n",
       "                   51 - 60                            2571.0   19.573658   \n",
       "                   61 - 70                            2247.0   17.106966   \n",
       "                   71 - 80                             704.0    5.359726   \n",
       "                   Less than 5                         239.0    1.819566   \n",
       "                   Older than 80                        87.0    0.662352   \n",
       "BMI_CAT            Normal                             6973.0   60.745710   \n",
       "                   Obese                              1206.0   10.506142   \n",
       "                   Overweight                         2983.0   25.986584   \n",
       "                   Underweight                         317.0    2.761565   \n",
       "DIABETES           I do not have diabetes            12861.0   98.461185   \n",
       "                   I have diabetes                     201.0    1.538815   \n",
       "IBD                I do not have IBD                 12188.0   95.991179   \n",
       "                   I have IBD                          509.0    4.008821   \n",
       "LEVEL_OF_EDUCATION Associate's degree                  190.0    2.483660   \n",
       "                   Bachelor's degree                  2724.0   35.607843   \n",
       "                   Did not complete high school         32.0    0.418301   \n",
       "                   Graduate or Professional degree    3893.0   50.888889   \n",
       "                   High School or GED equilivant       188.0    2.457516   \n",
       "                   Some college or technical school    623.0    8.143791   \n",
       "RACE               African American                     92.0    0.690017   \n",
       "                   Asian or Pacific Islander           692.0    5.190130   \n",
       "                   Caucasian                         11888.0   89.162229   \n",
       "                   Hispanic                            286.0    2.145054   \n",
       "                   Other                               375.0    2.812570   \n",
       "SEX                female                             6815.0   52.406952   \n",
       "                   male                               6174.0   47.477699   \n",
       "                   other                                15.0    0.115349   \n",
       "SMOKING_FREQUENCY  I do not smoke                    12376.0   93.038641   \n",
       "                   I smoke                             926.0    6.961359   \n",
       "\n",
       "                                                     US Census/CDC/NHANES data percentages  \n",
       "AGE_MOD            11 - 20                                                       13.835839  \n",
       "                   21 - 30                                                       13.826223  \n",
       "                   31 - 40                                                       13.001561  \n",
       "                   41 - 50                                                       14.121517  \n",
       "                   5 - 10                                                         6.590753  \n",
       "                   51 - 60                                                       13.591429  \n",
       "                   61 - 70                                                        9.474853  \n",
       "                   71 - 80                                                        5.375288  \n",
       "                   Less than 5                                                    6.543046  \n",
       "                   Older than 80                                                  3.639489  \n",
       "BMI_CAT            Normal                                                        28.900000  \n",
       "                   Obese                                                         36.400000  \n",
       "                   Overweight                                                    33.100000  \n",
       "                   Underweight                                                    1.600000  \n",
       "DIABETES           I do not have diabetes                                        90.700000  \n",
       "                   I have diabetes                                                9.300000  \n",
       "IBD                I do not have IBD                                             99.600000  \n",
       "                   I have IBD                                                     0.400000  \n",
       "LEVEL_OF_EDUCATION Associate's degree                                             9.800000  \n",
       "                   Bachelor's degree                                             20.500000  \n",
       "                   Did not complete high school                                  11.600000  \n",
       "                   Graduate or Professional degree                               12.000000  \n",
       "                   High School or GED equilivant                                 29.600000  \n",
       "                   Some college or technical school                              16.600000  \n",
       "RACE               African American                                              12.600000  \n",
       "                   Asian or Pacific Islander                                      5.000000  \n",
       "                   Caucasian                                                     63.700000  \n",
       "                   Hispanic                                                      16.300000  \n",
       "                   Other                                                          6.200000  \n",
       "SEX                female                                                        50.100000  \n",
       "                   male                                                          49.100000  \n",
       "                   other                                                               NaN  \n",
       "SMOKING_FREQUENCY  I do not smoke                                                84.900000  \n",
       "                   I smoke                                                       15.100000  "
      ]
     },
     "execution_count": 24,
     "metadata": {},
     "output_type": "execute_result"
    }
   ],
   "source": [
    "res"
   ]
  },
  {
   "cell_type": "code",
   "execution_count": null,
   "metadata": {
    "collapsed": true
   },
   "outputs": [],
   "source": []
  }
 ],
 "metadata": {
  "kernelspec": {
   "display_name": "Python 3",
   "language": "python",
   "name": "python3"
  },
  "language_info": {
   "codemirror_mode": {
    "name": "ipython",
    "version": 3
   },
   "file_extension": ".py",
   "mimetype": "text/x-python",
   "name": "python",
   "nbconvert_exporter": "python",
   "pygments_lexer": "ipython3",
   "version": "3.6.0"
  }
 },
 "nbformat": 4,
 "nbformat_minor": 2
}
