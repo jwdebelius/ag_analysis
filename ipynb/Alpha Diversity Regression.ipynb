{
 "cells": [
  {
   "cell_type": "markdown",
   "metadata": {},
   "source": [
    "**Author**: Justine Debelius<br>\n",
    "**email**: jdebelius@ucsd.edu<br>\n",
    "**enviroment**: agp_2017<br>\n",
    "**Date**: 16 May 2017"
   ]
  },
  {
   "cell_type": "markdown",
   "metadata": {},
   "source": [
    "This notebook will build a linear regression comparing the alpha diversity of participants in the American Gut to covariates fo interest.\n",
    "\n",
    "We're going to focus on a subset of the participants. Namely, we're going to look at individuals living in the US and UK with a BMI of less than 40."
   ]
  },
  {
   "cell_type": "code",
   "execution_count": 1,
   "metadata": {
    "collapsed": true
   },
   "outputs": [],
   "source": [
    "import matplotlib.pyplot as plt\n",
    "import numpy as np\n",
    "import pandas as pd\n",
    "import patsy\n",
    "import scipy\n",
    "import skbio\n",
    "import seaborn as sn\n",
    "import statsmodels.api as sms\n",
    "import statsmodels.formula.api as smf\n",
    "\n",
    "%matplotlib inline"
   ]
  },
  {
   "cell_type": "code",
   "execution_count": 2,
   "metadata": {
    "collapsed": true
   },
   "outputs": [],
   "source": [
    "map_ = pd.read_csv('./03.packaged/5000/ag_map_with_alpha.txt', sep='\\t', dtype=str)\n",
    "map_.set_index('#SampleID', inplace=True)\n",
    "\n",
    "map_.replace('Unspecified', np.nan, inplace=True)"
   ]
  },
  {
   "cell_type": "code",
   "execution_count": 3,
   "metadata": {
    "collapsed": false
   },
   "outputs": [],
   "source": [
    "map_['faiths_pd_5000'] = map_['faiths_pd_5000'].astype(float)"
   ]
  },
  {
   "cell_type": "code",
   "execution_count": 4,
   "metadata": {
    "collapsed": false
   },
   "outputs": [],
   "source": [
    "map_['age_corrected'] = map_['age_corrected'].astype(float)\n",
    "map_.loc[map_['age_corrected'] > 105, 'age_corrected'] = np.nan\n",
    "\n",
    "map_['bmi_corrected'] = map_['bmi_corrected'].astype(float)"
   ]
  },
  {
   "cell_type": "markdown",
   "metadata": {},
   "source": [
    "We're going to only look at samples from the US and UK, since these represent about 92% of the samples in the data set."
   ]
  },
  {
   "cell_type": "code",
   "execution_count": 13,
   "metadata": {
    "collapsed": false
   },
   "outputs": [],
   "source": [
    "def filter_map(x):\n",
    "    country = x['country'] in {'USA', 'United Kingdom', 'Canada'}\n",
    "    bmi = (x['bmi_corrected'] < 40) and (pd.isnull(x['bmi_corrected']) == False)\n",
    "    sex = x['sex'] in {'male', 'female'}\n",
    "    poo = x['bowel_movement_quality'] not in {\"I don't know, I do not have a point of reference\"}\n",
    "    race = x['race'] in {'Caucasian', 'Asian or Pacific Islander', 'Other'}\n",
    "    cpn = x['center_project_name'] in {'AG1', 'AG11', 'AG13', 'AG14', 'AG17', 'AG18', \n",
    "                                       'AG19', 'AG2', 'AG20', 'AG3', 'AG4', 'AG5', \n",
    "                                       'AG6', 'AG7', 'AG9', 'AGFermentation', \n",
    "                                       'AGUNDX', 'AGagOffice1', 'AGlost_samples'}\n",
    "    return country & bmi & sex & poo & race & cpn"
   ]
  },
  {
   "cell_type": "markdown",
   "metadata": {},
   "source": [
    "To address `country_of_birth`, we'll first try binning into a category we'll call \"immigration\". This will indicate whether the country of birth and the reported country match. (We'd use country of residence, but that was introduced far later)."
   ]
  },
  {
   "cell_type": "code",
   "execution_count": 14,
   "metadata": {
    "collapsed": true
   },
   "outputs": [],
   "source": [
    "study_columns = [\n",
    "    'center_project_name',\n",
    "    'age_corrected', \n",
    "    'age_cat',\n",
    "    'alcohol_frequency', \n",
    "    'antibiotic_history',\n",
    "    'bmi_corrected', \n",
    "    'bowel_movement_quality', \n",
    "    'ibd', \n",
    "    'ibs',\n",
    "    'country', \n",
    "    'race', \n",
    "    'types_of_plants',\n",
    "    'sex', \n",
    "    'sleep_duration', \n",
    "    'faiths_pd_5000',\n",
    "    'chickenpox',\n",
    "    ]"
   ]
  },
  {
   "cell_type": "code",
   "execution_count": 15,
   "metadata": {
    "collapsed": false
   },
   "outputs": [],
   "source": [
    "fmap_ = map_.loc[map_.apply(filter_map, axis=1)]\n",
    "smap_ = fmap_[study_columns].dropna()"
   ]
  },
  {
   "cell_type": "markdown",
   "metadata": {},
   "source": [
    "We're going to do some additional clean up, to make life easier? \n",
    "\n",
    "So, we'll combine the self diagnosed or alternative medicate practioner diagnosis into a `non medical diagnosis` category. This allows us to keep the individuals, but combines the groups.\n",
    "\n",
    "We'll rename the alcohol frequency, antibiotic history, bowel movement quality, and to make them prettier in the regression.<br>\n",
    "We'll also combine people who took antibiotics in the last week and the last month, since the last week is also part of the last month.<br>\n",
    "We'll also combine the sleep durations of less than 6 hours (Less than 5 and 5 - 6).\n",
    "\n"
   ]
  },
  {
   "cell_type": "markdown",
   "metadata": {},
   "source": [
    "We're going to code the data using numeric codeing, since this will be easier for patsy to handle.\n",
    "We'll also do some work to build combinations.\n",
    "\n",
    "We're going to combine the antibiotics in the last week and in the last month. <br>\n",
    "For both IBD and IBS, we will combine people who were idagnosed by an alternative medicine practioner or self diagnosed individuals into a different category."
   ]
  },
  {
   "cell_type": "code",
   "execution_count": 8,
   "metadata": {
    "collapsed": false
   },
   "outputs": [
    {
     "data": {
      "text/plain": [
       "AGag35             225\n",
       "AG31               200\n",
       "AGag36             196\n",
       "AGag34             193\n",
       "AGAGA.RR           191\n",
       "AG27               184\n",
       "AGag33             165\n",
       "AGp.109.110.111    117\n",
       "AGagFerm           117\n",
       "AG3dMouse           73\n",
       "AG29                62\n",
       "AG30                49\n",
       "AG25                48\n",
       "AG10                27\n",
       "AGagSurfers         27\n",
       "AG8                 22\n",
       "AG28                22\n",
       "AG17                12\n",
       "AG13                11\n",
       "AG14                10\n",
       "AG1                 10\n",
       "AG2                  9\n",
       "AG7                  9\n",
       "AG5                  9\n",
       "AG11                 8\n",
       "AG18                 6\n",
       "AG4                  5\n",
       "AGUNDX               5\n",
       "AGFermentation       5\n",
       "AG6                  4\n",
       "AG3                  4\n",
       "AG19                 3\n",
       "AG20                 2\n",
       "AG9                  2\n",
       "AGlost_samples       1\n",
       "AGagOffice1          1\n",
       "Name: center_project_name, dtype: int64"
      ]
     },
     "execution_count": 8,
     "metadata": {},
     "output_type": "execute_result"
    }
   ],
   "source": [
    "smap_['center_project_name'].value_counts()"
   ]
  },
  {
   "cell_type": "code",
   "execution_count": 9,
   "metadata": {
    "collapsed": true
   },
   "outputs": [],
   "source": [
    "numeric_coding = {'alcohol_frequency': {'Never': 0,\n",
    "                                        'Rarely (a few times/month)': 1,\n",
    "                                        'Occasionally (1-2 times/week)': 2,\n",
    "                                        'Regularly (3-5 times/week)': 3,\n",
    "                                        'Daily': 4,\n",
    "                                        },\n",
    "                  'antibiotic_history': {'I have not taken antibiotics in the past year.': 0,\n",
    "                                         'Year': 1,\n",
    "                                         '6 months': 2,\n",
    "                                         'Month': 3,\n",
    "                                         'Week': 3,\n",
    "                                         },\n",
    "                  'bowel_movement_quality': {'I tend to have normal formed stool': 0,\n",
    "                                             'I tend to have diarrhea (watery stool)': 1,\n",
    "                                             'I tend to be constipated (have difficulty passing stool)': 2,\n",
    "                                             },\n",
    "                  'chickenpox': {'No': 0,\n",
    "                                 'Yes': 1,\n",
    "                                 'Not sure': 2\n",
    "                                },\n",
    "                  'country': {'USA': 0,\n",
    "                              'United Kingdom': 1,\n",
    "                              'Canada': 2,\n",
    "                              'Australia': 3,\n",
    "                              },\n",
    "                  'ibd': {'I do not have this condition': 0,\n",
    "                          'Diagnosed by a medical professional (doctor, physician assistant)': 1,\n",
    "                          'Self-diagnosed': 2,\n",
    "                          'Diagnosed by an alternative medicine practitioner': 2,\n",
    "                          },\n",
    "                  'ibs': {'I do not have this condition': 0,\n",
    "                          'Diagnosed by a medical professional (doctor, physician assistant)': 1,\n",
    "                          'Self-diagnosed': 2,\n",
    "                          'Diagnosed by an alternative medicine practitioner': 2,\n",
    "                          },\n",
    "                  'race': {\"Caucasian\": 0,\n",
    "                           'Asian or Pacific Islander': 1,\n",
    "                           'Other': 2,\n",
    "                           },\n",
    "                  'sex': {'female': 0, \n",
    "                          'male': 1},\n",
    "                  'sleep_duration': {'Less than 5 hours': 0,\n",
    "                                     '5-6 hours': 0,\n",
    "                                     '6-7 hours': 1,\n",
    "                                     '7-8 hours': 2,\n",
    "                                     '8 or more hours': 3,\n",
    "                                     },\n",
    "                  'types_of_plants': {'Less than 5': 0,\n",
    "                                      '6 to 10': 1,\n",
    "                                      '11 to 20': 2,\n",
    "                                      '21 to 30': 3,\n",
    "                                      'More than 30': 4,\n",
    "                                      },\n",
    "                  }"
   ]
  },
  {
   "cell_type": "code",
   "execution_count": 16,
   "metadata": {
    "collapsed": false
   },
   "outputs": [],
   "source": [
    "smap_['age_corrected'].to_clipboard()"
   ]
  },
  {
   "cell_type": "code",
   "execution_count": 10,
   "metadata": {
    "collapsed": false,
    "scrolled": true
   },
   "outputs": [],
   "source": [
    "smap_numeric = smap_.replace(numeric_coding)"
   ]
  },
  {
   "cell_type": "code",
   "execution_count": null,
   "metadata": {
    "collapsed": true
   },
   "outputs": [],
   "source": [
    "smap_numeric.to_csv('')"
   ]
  },
  {
   "cell_type": "code",
   "execution_count": 25,
   "metadata": {
    "collapsed": false
   },
   "outputs": [
    {
     "data": {
      "text/plain": [
       "(2034, 15)"
      ]
     },
     "execution_count": 25,
     "metadata": {},
     "output_type": "execute_result"
    }
   ],
   "source": [
    "smap_numeric.shape"
   ]
  },
  {
   "cell_type": "code",
   "execution_count": 26,
   "metadata": {
    "collapsed": true
   },
   "outputs": [],
   "source": [
    "smap_numeric['ln_age'] = np.log(smap_numeric['age_corrected'] + 1)"
   ]
  },
  {
   "cell_type": "code",
   "execution_count": 27,
   "metadata": {
    "collapsed": true
   },
   "outputs": [],
   "source": [
    "smap_numeric.to_csv('./coded_regression_map_5k.txt', sep='\\t', index_label='#SampleID')"
   ]
  },
  {
   "cell_type": "code",
   "execution_count": 28,
   "metadata": {
    "collapsed": false
   },
   "outputs": [
    {
     "name": "stdout",
     "output_type": "stream",
     "text": [
      "/Users/jdebelius/AmericanGut/2017/04.paper/01.justine_packaging\r\n"
     ]
    }
   ],
   "source": [
    "!pwd"
   ]
  },
  {
   "cell_type": "markdown",
   "metadata": {},
   "source": [
    "Next, we'll build a regression including the covariate we're potentially interested in."
   ]
  },
  {
   "cell_type": "markdown",
   "metadata": {},
   "source": [
    "Next, we'll build a function that will let us preform a step-wise selection based on a decrease in the AIC, an increase in the adjusted $R^{2}$ and not blowing up the condition number."
   ]
  },
  {
   "cell_type": "code",
   "execution_count": null,
   "metadata": {
    "collapsed": true
   },
   "outputs": [],
   "source": [
    "def build_function(continous, categorical, response='faiths_pd_5000'):"
   ]
  },
  {
   "cell_type": "code",
   "execution_count": 68,
   "metadata": {
    "collapsed": false
   },
   "outputs": [
    {
     "name": "stdout",
     "output_type": "stream",
     "text": [
      "                            OLS Regression Results                            \n",
      "==============================================================================\n",
      "Dep. Variable:         faiths_pd_5000   R-squared:                       0.067\n",
      "Model:                            OLS   Adj. R-squared:                  0.066\n",
      "Method:                 Least Squares   F-statistic:                     73.38\n",
      "Date:                Tue, 23 May 2017   Prob (F-statistic):           1.69e-31\n",
      "Time:                        11:45:14   Log-Likelihood:                -6012.4\n",
      "No. Observations:                2034   AIC:                         1.203e+04\n",
      "Df Residuals:                    2031   BIC:                         1.205e+04\n",
      "Df Model:                           2                                         \n",
      "Covariance Type:            nonrobust                                         \n",
      "===================================================================================\n",
      "                      coef    std err          t      P>|t|      [95.0% Conf. Int.]\n",
      "-----------------------------------------------------------------------------------\n",
      "Intercept          16.9185      0.137    123.595      0.000        16.650    17.187\n",
      "C(country)[T.1]     2.5515      0.211     12.088      0.000         2.138     2.965\n",
      "C(country)[T.2]     1.6826      0.758      2.221      0.026         0.197     3.169\n",
      "==============================================================================\n",
      "Omnibus:                       40.834   Durbin-Watson:                   2.021\n",
      "Prob(Omnibus):                  0.000   Jarque-Bera (JB):               42.848\n",
      "Skew:                           0.354   Prob(JB):                     4.96e-10\n",
      "Kurtosis:                       3.072   Cond. No.                         8.10\n",
      "==============================================================================\n",
      "\n",
      "Warnings:\n",
      "[1] Standard Errors assume that the covariance matrix of the errors is correctly specified.\n"
     ]
    }
   ],
   "source": [
    "fit1 = smf.ols('faiths_pd_5000 ~ C(country)', data=smap_numeric).fit()\n",
    "print(fit1.summary())"
   ]
  },
  {
   "cell_type": "code",
   "execution_count": 69,
   "metadata": {
    "collapsed": false
   },
   "outputs": [
    {
     "name": "stdout",
     "output_type": "stream",
     "text": [
      "                            OLS Regression Results                            \n",
      "==============================================================================\n",
      "Dep. Variable:         faiths_pd_5000   R-squared:                       0.077\n",
      "Model:                            OLS   Adj. R-squared:                  0.075\n",
      "Method:                 Least Squares   F-statistic:                     42.22\n",
      "Date:                Tue, 23 May 2017   Prob (F-statistic):           4.72e-34\n",
      "Time:                        11:45:17   Log-Likelihood:                -6002.1\n",
      "No. Observations:                2034   AIC:                         1.201e+04\n",
      "Df Residuals:                    2029   BIC:                         1.204e+04\n",
      "Df Model:                           4                                         \n",
      "Covariance Type:            nonrobust                                         \n",
      "===================================================================================\n",
      "                      coef    std err          t      P>|t|      [95.0% Conf. Int.]\n",
      "-----------------------------------------------------------------------------------\n",
      "Intercept          17.0163      0.138    123.321      0.000        16.746    17.287\n",
      "C(country)[T.1]     2.5355      0.210     12.050      0.000         2.123     2.948\n",
      "C(country)[T.2]     1.5847      0.755      2.100      0.036         0.105     3.065\n",
      "C(ibd)[T.1]        -2.6345      0.580     -4.541      0.000        -3.772    -1.497\n",
      "C(ibd)[T.2]        -0.4935      1.164     -0.424      0.672        -2.777     1.790\n",
      "==============================================================================\n",
      "Omnibus:                       42.218   Durbin-Watson:                   2.012\n",
      "Prob(Omnibus):                  0.000   Jarque-Bera (JB):               44.405\n",
      "Skew:                           0.361   Prob(JB):                     2.28e-10\n",
      "Kurtosis:                       3.064   Cond. No.                         12.5\n",
      "==============================================================================\n",
      "\n",
      "Warnings:\n",
      "[1] Standard Errors assume that the covariance matrix of the errors is correctly specified.\n"
     ]
    }
   ],
   "source": [
    "fit1 = smf.ols('faiths_pd_5000 ~ C(country) + C(ibd)', data=smap_numeric).fit()\n",
    "print(fit1.summary())"
   ]
  },
  {
   "cell_type": "code",
   "execution_count": 70,
   "metadata": {
    "collapsed": false
   },
   "outputs": [
    {
     "name": "stdout",
     "output_type": "stream",
     "text": [
      "                            OLS Regression Results                            \n",
      "==============================================================================\n",
      "Dep. Variable:         faiths_pd_5000   R-squared:                       0.084\n",
      "Model:                            OLS   Adj. R-squared:                  0.081\n",
      "Method:                 Least Squares   F-statistic:                     30.85\n",
      "Date:                Tue, 23 May 2017   Prob (F-statistic):           1.28e-35\n",
      "Time:                        11:45:19   Log-Likelihood:                -5994.5\n",
      "No. Observations:                2034   AIC:                         1.200e+04\n",
      "Df Residuals:                    2027   BIC:                         1.204e+04\n",
      "Df Model:                           6                                         \n",
      "Covariance Type:            nonrobust                                         \n",
      "===================================================================================\n",
      "                      coef    std err          t      P>|t|      [95.0% Conf. Int.]\n",
      "-----------------------------------------------------------------------------------\n",
      "Intercept          17.1602      0.142    120.478      0.000        16.881    17.440\n",
      "C(country)[T.1]     2.6609      0.212     12.531      0.000         2.244     3.077\n",
      "C(country)[T.2]     1.6508      0.752      2.194      0.028         0.175     3.126\n",
      "C(ibd)[T.1]        -2.4331      0.584     -4.166      0.000        -3.579    -1.288\n",
      "C(ibd)[T.2]         0.1920      1.178      0.163      0.870        -2.118     2.502\n",
      "C(ibs)[T.1]        -0.9435      0.314     -3.007      0.003        -1.559    -0.328\n",
      "C(ibs)[T.2]        -1.1038      0.390     -2.832      0.005        -1.868    -0.339\n",
      "==============================================================================\n",
      "Omnibus:                       41.324   Durbin-Watson:                   2.009\n",
      "Prob(Omnibus):                  0.000   Jarque-Bera (JB):               43.389\n",
      "Skew:                           0.356   Prob(JB):                     3.79e-10\n",
      "Kurtosis:                       3.074   Cond. No.                         12.8\n",
      "==============================================================================\n",
      "\n",
      "Warnings:\n",
      "[1] Standard Errors assume that the covariance matrix of the errors is correctly specified.\n"
     ]
    }
   ],
   "source": [
    "fit1 = smf.ols('faiths_pd_5000 ~ C(country) + C(ibd) + C(ibs)', data=smap_numeric).fit()\n",
    "print(fit1.summary())"
   ]
  },
  {
   "cell_type": "code",
   "execution_count": 71,
   "metadata": {
    "collapsed": false
   },
   "outputs": [
    {
     "name": "stdout",
     "output_type": "stream",
     "text": [
      "                            OLS Regression Results                            \n",
      "==============================================================================\n",
      "Dep. Variable:         faiths_pd_5000   R-squared:                       0.102\n",
      "Model:                            OLS   Adj. R-squared:                  0.098\n",
      "Method:                 Least Squares   F-statistic:                     25.59\n",
      "Date:                Tue, 23 May 2017   Prob (F-statistic):           4.41e-42\n",
      "Time:                        11:45:19   Log-Likelihood:                -5973.8\n",
      "No. Observations:                2034   AIC:                         1.197e+04\n",
      "Df Residuals:                    2024   BIC:                         1.202e+04\n",
      "Df Model:                           9                                         \n",
      "Covariance Type:            nonrobust                                         \n",
      "==============================================================================================\n",
      "                                 coef    std err          t      P>|t|      [95.0% Conf. Int.]\n",
      "----------------------------------------------------------------------------------------------\n",
      "Intercept                     17.5549      0.157    111.858      0.000        17.247    17.863\n",
      "C(country)[T.1]                2.5577      0.211     12.115      0.000         2.144     2.972\n",
      "C(country)[T.2]                1.4910      0.746      1.999      0.046         0.029     2.953\n",
      "C(ibd)[T.1]                   -2.3383      0.579     -4.038      0.000        -3.474    -1.203\n",
      "C(ibd)[T.2]                    0.4494      1.167      0.385      0.700        -1.840     2.739\n",
      "C(ibs)[T.1]                   -0.7712      0.312     -2.471      0.014        -1.383    -0.159\n",
      "C(ibs)[T.2]                   -1.0192      0.387     -2.633      0.009        -1.778    -0.260\n",
      "C(antibiotic_history)[T.1]    -0.6406      0.299     -2.142      0.032        -1.227    -0.054\n",
      "C(antibiotic_history)[T.2]    -1.6557      0.327     -5.057      0.000        -2.298    -1.014\n",
      "C(antibiotic_history)[T.3]    -2.0148      0.457     -4.406      0.000        -2.912    -1.118\n",
      "==============================================================================\n",
      "Omnibus:                       42.051   Durbin-Watson:                   1.995\n",
      "Prob(Omnibus):                  0.000   Jarque-Bera (JB):               44.175\n",
      "Skew:                           0.358   Prob(JB):                     2.56e-10\n",
      "Kurtosis:                       3.090   Cond. No.                         13.0\n",
      "==============================================================================\n",
      "\n",
      "Warnings:\n",
      "[1] Standard Errors assume that the covariance matrix of the errors is correctly specified.\n"
     ]
    }
   ],
   "source": [
    "fit1 = smf.ols('faiths_pd_5000 ~ C(country) + C(ibd) + C(ibs) + C(antibiotic_history)', data=smap_numeric).fit()\n",
    "print(fit1.summary())"
   ]
  },
  {
   "cell_type": "code",
   "execution_count": 72,
   "metadata": {
    "collapsed": false
   },
   "outputs": [
    {
     "name": "stdout",
     "output_type": "stream",
     "text": [
      "                            OLS Regression Results                            \n",
      "==============================================================================\n",
      "Dep. Variable:         faiths_pd_5000   R-squared:                       0.133\n",
      "Model:                            OLS   Adj. R-squared:                  0.130\n",
      "Method:                 Least Squares   F-statistic:                     34.63\n",
      "Date:                Tue, 23 May 2017   Prob (F-statistic):           2.87e-57\n",
      "Time:                        11:45:20   Log-Likelihood:                -5937.7\n",
      "No. Observations:                2034   AIC:                         1.190e+04\n",
      "Df Residuals:                    2024   BIC:                         1.195e+04\n",
      "Df Model:                           9                                         \n",
      "Covariance Type:            nonrobust                                         \n",
      "======================================================================================\n",
      "                         coef    std err          t      P>|t|      [95.0% Conf. Int.]\n",
      "--------------------------------------------------------------------------------------\n",
      "Intercept             17.8799      0.156    114.591      0.000        17.574    18.186\n",
      "C(country)[T.1]        2.4185      0.208     11.625      0.000         2.011     2.827\n",
      "C(country)[T.2]        1.2706      0.733      1.733      0.083        -0.167     2.708\n",
      "C(ibd)[T.1]           -2.3741      0.569     -4.174      0.000        -3.490    -1.259\n",
      "C(ibd)[T.2]            0.2727      1.147      0.238      0.812        -1.977     2.522\n",
      "C(ibs)[T.1]           -0.8059      0.307     -2.626      0.009        -1.408    -0.204\n",
      "C(ibs)[T.2]           -1.0626      0.380     -2.800      0.005        -1.807    -0.318\n",
      "C(race)[T.1]          -3.5015      0.470     -7.446      0.000        -4.424    -2.579\n",
      "C(race)[T.2]          -2.7612      0.605     -4.564      0.000        -3.948    -1.575\n",
      "antibiotic_history    -0.7466      0.113     -6.623      0.000        -0.968    -0.526\n",
      "==============================================================================\n",
      "Omnibus:                       40.730   Durbin-Watson:                   2.002\n",
      "Prob(Omnibus):                  0.000   Jarque-Bera (JB):               42.676\n",
      "Skew:                           0.349   Prob(JB):                     5.41e-10\n",
      "Kurtosis:                       3.126   Cond. No.                         15.2\n",
      "==============================================================================\n",
      "\n",
      "Warnings:\n",
      "[1] Standard Errors assume that the covariance matrix of the errors is correctly specified.\n"
     ]
    }
   ],
   "source": [
    "fit1 = smf.ols('faiths_pd_5000 ~ C(country) + C(ibd) + C(ibs) + antibiotic_history + C(race)', data=smap_numeric).fit()\n",
    "print(fit1.summary())"
   ]
  },
  {
   "cell_type": "code",
   "execution_count": 78,
   "metadata": {
    "collapsed": false
   },
   "outputs": [
    {
     "name": "stdout",
     "output_type": "stream",
     "text": [
      "                            OLS Regression Results                            \n",
      "==============================================================================\n",
      "Dep. Variable:         faiths_pd_5000   R-squared:                       0.132\n",
      "Model:                            OLS   Adj. R-squared:                  0.129\n",
      "Method:                 Least Squares   F-statistic:                     38.62\n",
      "Date:                Tue, 23 May 2017   Prob (F-statistic):           1.51e-57\n",
      "Time:                        11:54:00   Log-Likelihood:                -5939.0\n",
      "No. Observations:                2034   AIC:                         1.190e+04\n",
      "Df Residuals:                    2025   BIC:                         1.195e+04\n",
      "Df Model:                           8                                         \n",
      "Covariance Type:            nonrobust                                         \n",
      "======================================================================================\n",
      "                         coef    std err          t      P>|t|      [95.0% Conf. Int.]\n",
      "--------------------------------------------------------------------------------------\n",
      "Intercept             14.9656      0.343     43.694      0.000        14.294    15.637\n",
      "C(country)[T.1]        2.4016      0.208     11.537      0.000         1.993     2.810\n",
      "C(country)[T.2]        1.3730      0.733      1.873      0.061        -0.064     2.811\n",
      "C(ibd)[T.1]           -2.1418      0.569     -3.762      0.000        -3.258    -1.025\n",
      "C(ibd)[T.2]            0.5753      1.147      0.501      0.616        -1.675     2.825\n",
      "C(ibs)[T.1]           -0.7384      0.307     -2.408      0.016        -1.340    -0.137\n",
      "C(ibs)[T.2]           -0.9235      0.380     -2.431      0.015        -1.668    -0.179\n",
      "antibiotic_history    -0.7683      0.113     -6.810      0.000        -0.990    -0.547\n",
      "age_corrected          0.0555      0.007      8.440      0.000         0.043     0.068\n",
      "==============================================================================\n",
      "Omnibus:                       32.652   Durbin-Watson:                   1.984\n",
      "Prob(Omnibus):                  0.000   Jarque-Bera (JB):               33.828\n",
      "Skew:                           0.307   Prob(JB):                     4.51e-08\n",
      "Kurtosis:                       3.146   Cond. No.                         579.\n",
      "==============================================================================\n",
      "\n",
      "Warnings:\n",
      "[1] Standard Errors assume that the covariance matrix of the errors is correctly specified.\n"
     ]
    }
   ],
   "source": [
    "fit1 = smf.ols('faiths_pd_5000 ~ C(country) + C(ibd) + C(ibs) + antibiotic_history + age_corrected', data=smap_numeric).fit()\n",
    "print(fit1.summary())"
   ]
  },
  {
   "cell_type": "code",
   "execution_count": 79,
   "metadata": {
    "collapsed": false
   },
   "outputs": [
    {
     "name": "stderr",
     "output_type": "stream",
     "text": [
      "/Users/jdebelius/miniconda2/envs/agp_2017/lib/python3.6/site-packages/statsmodels/nonparametric/kdetools.py:20: VisibleDeprecationWarning: using a non-integer number instead of an integer will result in an error in the future\n",
      "  y = X[:m/2+1] + np.r_[0,X[m/2+1:],0]*1j\n"
     ]
    },
    {
     "data": {
      "text/plain": [
       "<matplotlib.axes._subplots.AxesSubplot at 0x11c8797f0>"
      ]
     },
     "execution_count": 79,
     "metadata": {},
     "output_type": "execute_result"
    },
    {
     "data": {
      "image/png": "[encoded data removed]",
      "text/plain": [
       "<matplotlib.figure.Figure at 0x11c87f080>"
      ]
     },
     "metadata": {},
     "output_type": "display_data"
    }
   ],
   "source": [
    "sn.distplot(fit1.resid)"
   ]
  },
  {
   "cell_type": "code",
   "execution_count": 80,
   "metadata": {
    "collapsed": false
   },
   "outputs": [
    {
     "name": "stdout",
     "output_type": "stream",
     "text": [
      "                            OLS Regression Results                            \n",
      "==============================================================================\n",
      "Dep. Variable:         faiths_pd_5000   R-squared:                       0.133\n",
      "Model:                            OLS   Adj. R-squared:                  0.129\n",
      "Method:                 Least Squares   F-statistic:                     38.78\n",
      "Date:                Tue, 23 May 2017   Prob (F-statistic):           8.62e-58\n",
      "Time:                        11:54:04   Log-Likelihood:                -5938.4\n",
      "No. Observations:                2034   AIC:                         1.189e+04\n",
      "Df Residuals:                    2025   BIC:                         1.195e+04\n",
      "Df Model:                           8                                         \n",
      "Covariance Type:            nonrobust                                         \n",
      "======================================================================================\n",
      "                         coef    std err          t      P>|t|      [95.0% Conf. Int.]\n",
      "--------------------------------------------------------------------------------------\n",
      "Intercept              8.2472      1.105      7.467      0.000         6.081    10.413\n",
      "C(country)[T.1]        2.3826      0.208     11.439      0.000         1.974     2.791\n",
      "C(country)[T.2]        1.3615      0.733      1.858      0.063        -0.076     2.799\n",
      "C(ibd)[T.1]           -2.1653      0.569     -3.805      0.000        -3.281    -1.049\n",
      "C(ibd)[T.2]            0.5748      1.147      0.501      0.616        -1.675     2.824\n",
      "C(ibs)[T.1]           -0.7634      0.307     -2.490      0.013        -1.365    -0.162\n",
      "C(ibs)[T.2]           -0.9585      0.380     -2.525      0.012        -1.703    -0.214\n",
      "antibiotic_history    -0.7518      0.113     -6.669      0.000        -0.973    -0.531\n",
      "ln_age                 2.4477      0.288      8.510      0.000         1.884     3.012\n",
      "==============================================================================\n",
      "Omnibus:                       32.641   Durbin-Watson:                   1.983\n",
      "Prob(Omnibus):                  0.000   Jarque-Bera (JB):               33.805\n",
      "Skew:                           0.308   Prob(JB):                     4.56e-08\n",
      "Kurtosis:                       3.136   Cond. No.                         46.7\n",
      "==============================================================================\n",
      "\n",
      "Warnings:\n",
      "[1] Standard Errors assume that the covariance matrix of the errors is correctly specified.\n"
     ]
    }
   ],
   "source": [
    "fit1 = smf.ols('faiths_pd_5000 ~ C(country) + C(ibd) + C(ibs) + antibiotic_history + ln_age', data=smap_numeric).fit()\n",
    "print(fit1.summary())"
   ]
  },
  {
   "cell_type": "code",
   "execution_count": 81,
   "metadata": {
    "collapsed": false
   },
   "outputs": [
    {
     "name": "stderr",
     "output_type": "stream",
     "text": [
      "/Users/jdebelius/miniconda2/envs/agp_2017/lib/python3.6/site-packages/statsmodels/nonparametric/kdetools.py:20: VisibleDeprecationWarning: using a non-integer number instead of an integer will result in an error in the future\n",
      "  y = X[:m/2+1] + np.r_[0,X[m/2+1:],0]*1j\n"
     ]
    },
    {
     "data": {
      "text/plain": [
       "<matplotlib.axes._subplots.AxesSubplot at 0x1192ec208>"
      ]
     },
     "execution_count": 81,
     "metadata": {},
     "output_type": "execute_result"
    },
    {
     "data": {
      "image/png": "[encoded data removed]",
      "text/plain": [
       "<matplotlib.figure.Figure at 0x11967f860>"
      ]
     },
     "metadata": {},
     "output_type": "display_data"
    }
   ],
   "source": [
    "sn.distplot(fit1.resid)"
   ]
  },
  {
   "cell_type": "code",
   "execution_count": 77,
   "metadata": {
    "collapsed": false
   },
   "outputs": [
    {
     "name": "stdout",
     "output_type": "stream",
     "text": [
      "                            OLS Regression Results                            \n",
      "==============================================================================\n",
      "Dep. Variable:         faiths_pd_5000   R-squared:                       0.140\n",
      "Model:                            OLS   Adj. R-squared:                  0.136\n",
      "Method:                 Least Squares   F-statistic:                     36.59\n",
      "Date:                Tue, 23 May 2017   Prob (F-statistic):           1.64e-60\n",
      "Time:                        11:53:52   Log-Likelihood:                -5930.1\n",
      "No. Observations:                2034   AIC:                         1.188e+04\n",
      "Df Residuals:                    2024   BIC:                         1.194e+04\n",
      "Df Model:                           9                                         \n",
      "Covariance Type:            nonrobust                                         \n",
      "======================================================================================\n",
      "                         coef    std err          t      P>|t|      [95.0% Conf. Int.]\n",
      "--------------------------------------------------------------------------------------\n",
      "Intercept              8.5873      1.103      7.782      0.000         6.423    10.751\n",
      "C(country)[T.1]        2.3322      0.208     11.220      0.000         1.925     2.740\n",
      "C(country)[T.2]        1.3711      0.730      1.878      0.061        -0.061     2.803\n",
      "C(ibd)[T.1]           -2.1129      0.567     -3.726      0.000        -3.225    -1.001\n",
      "C(ibd)[T.2]            0.6686      1.143      0.585      0.559        -1.573     2.910\n",
      "C(ibs)[T.1]           -0.9009      0.307     -2.932      0.003        -1.504    -0.298\n",
      "C(ibs)[T.2]           -1.0664      0.379     -2.813      0.005        -1.810    -0.323\n",
      "C(sex)[T.1]           -0.8254      0.202     -4.085      0.000        -1.222    -0.429\n",
      "antibiotic_history    -0.7703      0.112     -6.854      0.000        -0.991    -0.550\n",
      "ln_age                 2.4695      0.287      8.618      0.000         1.908     3.032\n",
      "==============================================================================\n",
      "Omnibus:                       32.310   Durbin-Watson:                   1.993\n",
      "Prob(Omnibus):                  0.000   Jarque-Bera (JB):               33.474\n",
      "Skew:                           0.304   Prob(JB):                     5.38e-08\n",
      "Kurtosis:                       3.157   Cond. No.                         46.9\n",
      "==============================================================================\n",
      "\n",
      "Warnings:\n",
      "[1] Standard Errors assume that the covariance matrix of the errors is correctly specified.\n"
     ]
    }
   ],
   "source": [
    "fit1 = smf.ols('faiths_pd_5000 ~ C(country) + C(ibd) + C(ibs) + antibiotic_history + ln_age'\n",
    "               '+ C(sex)', \n",
    "               data=smap_numeric).fit()\n",
    "print(fit1.summary())"
   ]
  },
  {
   "cell_type": "code",
   "execution_count": 82,
   "metadata": {
    "collapsed": false
   },
   "outputs": [
    {
     "name": "stdout",
     "output_type": "stream",
     "text": [
      "                            OLS Regression Results                            \n",
      "==============================================================================\n",
      "Dep. Variable:         faiths_pd_5000   R-squared:                       0.144\n",
      "Model:                            OLS   Adj. R-squared:                  0.140\n",
      "Method:                 Least Squares   F-statistic:                     34.04\n",
      "Date:                Tue, 23 May 2017   Prob (F-statistic):           9.16e-62\n",
      "Time:                        11:57:15   Log-Likelihood:                -5925.2\n",
      "No. Observations:                2034   AIC:                         1.187e+04\n",
      "Df Residuals:                    2023   BIC:                         1.193e+04\n",
      "Df Model:                          10                                         \n",
      "Covariance Type:            nonrobust                                         \n",
      "======================================================================================\n",
      "                         coef    std err          t      P>|t|      [95.0% Conf. Int.]\n",
      "--------------------------------------------------------------------------------------\n",
      "Intercept             11.7623      1.501      7.835      0.000         8.818    14.707\n",
      "C(country)[T.1]        2.3220      0.207     11.194      0.000         1.915     2.729\n",
      "C(country)[T.2]        1.3428      0.729      1.843      0.065        -0.086     2.771\n",
      "C(ibd)[T.1]           -2.0995      0.566     -3.711      0.000        -3.209    -0.990\n",
      "C(ibd)[T.2]            0.7940      1.141      0.696      0.487        -1.444     3.032\n",
      "C(ibs)[T.1]           -0.8773      0.307     -2.860      0.004        -1.479    -0.276\n",
      "C(ibs)[T.2]           -1.0195      0.379     -2.693      0.007        -1.762    -0.277\n",
      "C(sex)[T.1]           -7.6350      2.198     -3.473      0.001       -11.946    -3.324\n",
      "antibiotic_history    -0.7796      0.112     -6.949      0.000        -1.000    -0.560\n",
      "ln_age                 1.6405      0.391      4.197      0.000         0.874     2.407\n",
      "ln_age:C(sex)[T.1]     1.7769      0.571      3.111      0.002         0.657     2.897\n",
      "==============================================================================\n",
      "Omnibus:                       32.234   Durbin-Watson:                   1.998\n",
      "Prob(Omnibus):                  0.000   Jarque-Bera (JB):               33.381\n",
      "Skew:                           0.305   Prob(JB):                     5.64e-08\n",
      "Kurtosis:                       3.151   Cond. No.                         116.\n",
      "==============================================================================\n",
      "\n",
      "Warnings:\n",
      "[1] Standard Errors assume that the covariance matrix of the errors is correctly specified.\n"
     ]
    }
   ],
   "source": [
    "fit1 = smf.ols('faiths_pd_5000 ~ C(country) + C(ibd) + C(ibs) + antibiotic_history + ln_age*C(sex)', \n",
    "               data=smap_numeric).fit()\n",
    "print(fit1.summary())"
   ]
  },
  {
   "cell_type": "code",
   "execution_count": 83,
   "metadata": {
    "collapsed": false
   },
   "outputs": [
    {
     "name": "stdout",
     "output_type": "stream",
     "text": [
      "                            OLS Regression Results                            \n",
      "==============================================================================\n",
      "Dep. Variable:         faiths_pd_5000   R-squared:                       0.156\n",
      "Model:                            OLS   Adj. R-squared:                  0.151\n",
      "Method:                 Least Squares   F-statistic:                     33.99\n",
      "Date:                Tue, 23 May 2017   Prob (F-statistic):           4.86e-67\n",
      "Time:                        11:58:59   Log-Likelihood:                -5910.8\n",
      "No. Observations:                2034   AIC:                         1.185e+04\n",
      "Df Residuals:                    2022   BIC:                         1.191e+04\n",
      "Df Model:                          11                                         \n",
      "Covariance Type:            nonrobust                                         \n",
      "======================================================================================\n",
      "                         coef    std err          t      P>|t|      [95.0% Conf. Int.]\n",
      "--------------------------------------------------------------------------------------\n",
      "Intercept             11.1217      1.496      7.435      0.000         8.188    14.055\n",
      "C(country)[T.1]        2.2080      0.207     10.660      0.000         1.802     2.614\n",
      "C(country)[T.2]        1.1429      0.725      1.577      0.115        -0.278     2.564\n",
      "C(ibd)[T.1]           -2.1244      0.562     -3.780      0.000        -3.227    -1.022\n",
      "C(ibd)[T.2]            0.8371      1.133      0.739      0.460        -1.386     3.060\n",
      "C(ibs)[T.1]           -0.8059      0.305     -2.643      0.008        -1.404    -0.208\n",
      "C(ibs)[T.2]           -1.0354      0.376     -2.754      0.006        -1.773    -0.298\n",
      "C(sex)[T.1]           -7.6764      2.183     -3.516      0.000       -11.958    -3.395\n",
      "antibiotic_history    -0.7424      0.112     -6.650      0.000        -0.961    -0.523\n",
      "ln_age                 1.5167      0.389      3.900      0.000         0.754     2.279\n",
      "ln_age:C(sex)[T.1]     1.8277      0.567      3.222      0.001         0.715     2.940\n",
      "types_of_plants        0.5020      0.094      5.366      0.000         0.319     0.685\n",
      "==============================================================================\n",
      "Omnibus:                       31.920   Durbin-Watson:                   1.996\n",
      "Prob(Omnibus):                  0.000   Jarque-Bera (JB):               33.016\n",
      "Skew:                           0.306   Prob(JB):                     6.77e-08\n",
      "Kurtosis:                       3.122   Cond. No.                         128.\n",
      "==============================================================================\n",
      "\n",
      "Warnings:\n",
      "[1] Standard Errors assume that the covariance matrix of the errors is correctly specified.\n"
     ]
    }
   ],
   "source": [
    "fit1 = smf.ols('faiths_pd_5000 ~ C(country) + C(ibd) + C(ibs) + antibiotic_history + ln_age*C(sex)'\n",
    "               '+ types_of_plants', \n",
    "               data=smap_numeric).fit()\n",
    "print(fit1.summary())"
   ]
  },
  {
   "cell_type": "code",
   "execution_count": 86,
   "metadata": {
    "collapsed": false
   },
   "outputs": [
    {
     "name": "stdout",
     "output_type": "stream",
     "text": [
      "                            OLS Regression Results                            \n",
      "==============================================================================\n",
      "Dep. Variable:         faiths_pd_5000   R-squared:                       0.152\n",
      "Model:                            OLS   Adj. R-squared:                  0.147\n",
      "Method:                 Least Squares   F-statistic:                     30.13\n",
      "Date:                Tue, 23 May 2017   Prob (F-statistic):           4.42e-64\n",
      "Time:                        12:02:49   Log-Likelihood:                -5916.0\n",
      "No. Observations:                2034   AIC:                         1.186e+04\n",
      "Df Residuals:                    2021   BIC:                         1.193e+04\n",
      "Df Model:                          12                                         \n",
      "Covariance Type:            nonrobust                                         \n",
      "===============================================================================================\n",
      "                                  coef    std err          t      P>|t|      [95.0% Conf. Int.]\n",
      "-----------------------------------------------------------------------------------------------\n",
      "Intercept                       7.8527      1.109      7.080      0.000         5.678    10.028\n",
      "C(country)[T.1]                 2.2359      0.275      8.140      0.000         1.697     2.775\n",
      "C(country)[T.2]                 1.2570      1.014      1.240      0.215        -0.731     3.245\n",
      "C(sex)[T.1]                    -0.6557      0.264     -2.484      0.013        -1.173    -0.138\n",
      "C(ibd)[T.1]                    -2.1371      0.564     -3.792      0.000        -3.242    -1.032\n",
      "C(ibd)[T.2]                     0.7095      1.136      0.625      0.532        -1.519     2.938\n",
      "C(ibs)[T.1]                    -0.8329      0.306     -2.719      0.007        -1.434    -0.232\n",
      "C(ibs)[T.2]                    -1.0846      0.377     -2.876      0.004        -1.824    -0.345\n",
      "C(country)[T.1]:C(sex)[T.1]    -0.0364      0.410     -0.089      0.929        -0.840     0.767\n",
      "C(country)[T.2]:C(sex)[T.1]    -0.1702      1.450     -0.117      0.907        -3.014     2.674\n",
      "antibiotic_history             -0.7330      0.112     -6.549      0.000        -0.952    -0.513\n",
      "ln_age                          2.3711      0.285      8.306      0.000         1.811     2.931\n",
      "types_of_plants                 0.4967      0.094      5.295      0.000         0.313     0.681\n",
      "==============================================================================\n",
      "Omnibus:                       31.753   Durbin-Watson:                   1.990\n",
      "Prob(Omnibus):                  0.000   Jarque-Bera (JB):               32.839\n",
      "Skew:                           0.304   Prob(JB):                     7.40e-08\n",
      "Kurtosis:                       3.130   Cond. No.                         77.3\n",
      "==============================================================================\n",
      "\n",
      "Warnings:\n",
      "[1] Standard Errors assume that the covariance matrix of the errors is correctly specified.\n"
     ]
    }
   ],
   "source": [
    "fit1 = smf.ols('faiths_pd_5000 ~ C(country)*C(sex) + C(ibd) + C(ibs) + antibiotic_history + ln_age'\n",
    "               '+ types_of_plants', \n",
    "               data=smap_numeric).fit()\n",
    "print(fit1.summary())"
   ]
  },
  {
   "cell_type": "code",
   "execution_count": 87,
   "metadata": {
    "collapsed": false
   },
   "outputs": [
    {
     "name": "stdout",
     "output_type": "stream",
     "text": [
      "                            OLS Regression Results                            \n",
      "==============================================================================\n",
      "Dep. Variable:         faiths_pd_5000   R-squared:                       0.152\n",
      "Model:                            OLS   Adj. R-squared:                  0.146\n",
      "Method:                 Least Squares   F-statistic:                     24.10\n",
      "Date:                Tue, 23 May 2017   Prob (F-statistic):           5.49e-62\n",
      "Time:                        12:03:02   Log-Likelihood:                -5915.8\n",
      "No. Observations:                2034   AIC:                         1.186e+04\n",
      "Df Residuals:                    2018   BIC:                         1.195e+04\n",
      "Df Model:                          15                                         \n",
      "Covariance Type:            nonrobust                                         \n",
      "===============================================================================================\n",
      "                                  coef    std err          t      P>|t|      [95.0% Conf. Int.]\n",
      "-----------------------------------------------------------------------------------------------\n",
      "Intercept                       7.7184      1.144      6.745      0.000         5.474     9.962\n",
      "C(country)[T.1]                 2.2291      0.275      8.095      0.000         1.689     2.769\n",
      "C(country)[T.2]                 1.2473      1.016      1.228      0.220        -0.744     3.239\n",
      "C(sex)[T.1]                    -0.6555      0.264     -2.481      0.013        -1.174    -0.137\n",
      "C(ibd)[T.1]                    -2.1402      0.564     -3.794      0.000        -3.247    -1.034\n",
      "C(ibd)[T.2]                     0.7080      1.138      0.622      0.534        -1.523     2.939\n",
      "C(ibs)[T.1]                    -0.8350      0.307     -2.724      0.007        -1.436    -0.234\n",
      "C(ibs)[T.2]                    -1.0846      0.378     -2.873      0.004        -1.825    -0.344\n",
      "C(types_of_plants)[T.1]         0.7363      0.462      1.594      0.111        -0.170     1.642\n",
      "C(types_of_plants)[T.2]         1.0875      0.447      2.432      0.015         0.211     1.964\n",
      "C(types_of_plants)[T.3]         1.6820      0.465      3.617      0.000         0.770     2.594\n",
      "C(types_of_plants)[T.4]         2.1081      0.507      4.155      0.000         1.113     3.103\n",
      "C(country)[T.1]:C(sex)[T.1]    -0.0369      0.410     -0.090      0.928        -0.841     0.767\n",
      "C(country)[T.2]:C(sex)[T.1]    -0.1722      1.452     -0.119      0.906        -3.019     2.675\n",
      "antibiotic_history             -0.7328      0.112     -6.537      0.000        -0.953    -0.513\n",
      "ln_age                          2.3685      0.286      8.272      0.000         1.807     2.930\n",
      "==============================================================================\n",
      "Omnibus:                       31.506   Durbin-Watson:                   1.990\n",
      "Prob(Omnibus):                  0.000   Jarque-Bera (JB):               32.569\n",
      "Skew:                           0.304   Prob(JB):                     8.47e-08\n",
      "Kurtosis:                       3.125   Cond. No.                         68.6\n",
      "==============================================================================\n",
      "\n",
      "Warnings:\n",
      "[1] Standard Errors assume that the covariance matrix of the errors is correctly specified.\n"
     ]
    }
   ],
   "source": [
    "fit1 = smf.ols('faiths_pd_5000 ~ C(country)*C(sex) + C(ibd) + C(ibs) + antibiotic_history + ln_age'\n",
    "               '+ C(types_of_plants)', \n",
    "               data=smap_numeric).fit()\n",
    "print(fit1.summary())"
   ]
  },
  {
   "cell_type": "code",
   "execution_count": 89,
   "metadata": {
    "collapsed": false
   },
   "outputs": [
    {
     "name": "stdout",
     "output_type": "stream",
     "text": [
      "                            OLS Regression Results                            \n",
      "==============================================================================\n",
      "Dep. Variable:         faiths_pd_5000   R-squared:                       0.177\n",
      "Model:                            OLS   Adj. R-squared:                  0.172\n",
      "Method:                 Least Squares   F-statistic:                     33.39\n",
      "Date:                Tue, 23 May 2017   Prob (F-statistic):           3.65e-76\n",
      "Time:                        12:03:30   Log-Likelihood:                -5885.4\n",
      "No. Observations:                2034   AIC:                         1.180e+04\n",
      "Df Residuals:                    2020   BIC:                         1.188e+04\n",
      "Df Model:                          13                                         \n",
      "Covariance Type:            nonrobust                                         \n",
      "=============================================================================================\n",
      "                                coef    std err          t      P>|t|      [95.0% Conf. Int.]\n",
      "---------------------------------------------------------------------------------------------\n",
      "Intercept                    15.8437      0.495     32.010      0.000        14.873    16.814\n",
      "C(country)[T.1]               2.1436      0.205     10.460      0.000         1.742     2.545\n",
      "C(country)[T.2]               0.9944      0.716      1.388      0.165        -0.410     2.399\n",
      "C(ibd)[T.1]                  -2.1557      0.556     -3.880      0.000        -3.245    -1.066\n",
      "C(ibd)[T.2]                   0.6569      1.120      0.587      0.558        -1.540     2.854\n",
      "C(ibs)[T.1]                  -0.8092      0.302     -2.684      0.007        -1.400    -0.218\n",
      "C(ibs)[T.2]                  -1.0342      0.372     -2.782      0.005        -1.763    -0.305\n",
      "C(sex)[T.1]                  -2.5852      0.645     -4.007      0.000        -3.850    -1.320\n",
      "C(race)[T.1]                 -2.7771      0.464     -5.981      0.000        -3.688    -1.866\n",
      "C(race)[T.2]                 -2.3181      0.592     -3.914      0.000        -3.479    -1.157\n",
      "antibiotic_history           -0.7667      0.110     -6.945      0.000        -0.983    -0.550\n",
      "age_corrected                 0.0284      0.009      3.202      0.001         0.011     0.046\n",
      "age_corrected:C(sex)[T.1]     0.0410      0.013      3.196      0.001         0.016     0.066\n",
      "types_of_plants               0.4783      0.093      5.170      0.000         0.297     0.660\n",
      "==============================================================================\n",
      "Omnibus:                       31.160   Durbin-Watson:                   2.003\n",
      "Prob(Omnibus):                  0.000   Jarque-Bera (JB):               32.229\n",
      "Skew:                           0.298   Prob(JB):                     1.00e-07\n",
      "Kurtosis:                       3.156   Cond. No.                         651.\n",
      "==============================================================================\n",
      "\n",
      "Warnings:\n",
      "[1] Standard Errors assume that the covariance matrix of the errors is correctly specified.\n"
     ]
    }
   ],
   "source": [
    "fit1 = smf.ols('faiths_pd_5000 ~ C(country) + C(ibd) + C(ibs) + antibiotic_history + age_corrected*C(sex)'\n",
    "               ' + types_of_plants + C(race)', \n",
    "               data=smap_numeric).fit()\n",
    "print(fit1.summary())"
   ]
  },
  {
   "cell_type": "code",
   "execution_count": 23,
   "metadata": {
    "collapsed": false
   },
   "outputs": [
    {
     "name": "stdout",
     "output_type": "stream",
     "text": [
      "                            OLS Regression Results                            \n",
      "==============================================================================\n",
      "Dep. Variable:         faiths_pd_5000   R-squared:                       0.158\n",
      "Model:                            OLS   Adj. R-squared:                  0.153\n",
      "Method:                 Least Squares   F-statistic:                     32.61\n",
      "Date:                Tue, 23 May 2017   Prob (F-statistic):           1.37e-69\n",
      "Time:                        11:16:05   Log-Likelihood:                -6092.4\n",
      "No. Observations:                2100   AIC:                         1.221e+04\n",
      "Df Residuals:                    2087   BIC:                         1.228e+04\n",
      "Df Model:                          12                                         \n",
      "Covariance Type:            nonrobust                                         \n",
      "=============================================================================================\n",
      "                                coef    std err          t      P>|t|      [95.0% Conf. Int.]\n",
      "---------------------------------------------------------------------------------------------\n",
      "Intercept                    14.8569      0.514     28.921      0.000        13.849    15.864\n",
      "C(country)[T.1]               2.2360      0.204     10.960      0.000         1.836     2.636\n",
      "C(country)[T.2]               1.2925      0.712      1.816      0.070        -0.103     2.688\n",
      "C(ibd)[T.1]                  -2.0337      0.551     -3.692      0.000        -3.114    -0.953\n",
      "C(ibd)[T.2]                   0.8019      1.128      0.711      0.477        -1.410     3.014\n",
      "C(ibs)[T.1]                  -0.8013      0.301     -2.661      0.008        -1.392    -0.211\n",
      "C(ibs)[T.2]                  -0.9600      0.373     -2.574      0.010        -1.691    -0.229\n",
      "C(sex)[T.1]                  -2.6806      0.636     -4.215      0.000        -3.928    -1.434\n",
      "antibiotic_history           -0.7460      0.110     -6.762      0.000        -0.962    -0.530\n",
      "age_corrected                 0.0345      0.009      3.939      0.000         0.017     0.052\n",
      "age_corrected:C(sex)[T.1]     0.0428      0.013      3.378      0.001         0.018     0.068\n",
      "types_of_plants               0.5046      0.092      5.511      0.000         0.325     0.684\n",
      "sleep_duration                0.2340      0.113      2.065      0.039         0.012     0.456\n",
      "==============================================================================\n",
      "Omnibus:                       33.777   Durbin-Watson:                   1.987\n",
      "Prob(Omnibus):                  0.000   Jarque-Bera (JB):               35.022\n",
      "Skew:                           0.307   Prob(JB):                     2.48e-08\n",
      "Kurtosis:                       3.152   Cond. No.                         661.\n",
      "==============================================================================\n",
      "\n",
      "Warnings:\n",
      "[1] Standard Errors assume that the covariance matrix of the errors is correctly specified.\n"
     ]
    }
   ],
   "source": [
    "fit1 = smf.ols('faiths_pd_5000 ~ C(country) + C(ibd) + C(ibs) + antibiotic_history + age_corrected*C(sex)'\n",
    "               ' + (types_of_plants) + sleep_duration', \n",
    "               data=smap_numeric).fit()\n",
    "print(fit1.summary())"
   ]
  },
  {
   "cell_type": "code",
   "execution_count": 24,
   "metadata": {
    "collapsed": false
   },
   "outputs": [
    {
     "name": "stdout",
     "output_type": "stream",
     "text": [
      "                            OLS Regression Results                            \n",
      "==============================================================================\n",
      "Dep. Variable:         faiths_pd_5000   R-squared:                       0.158\n",
      "Model:                            OLS   Adj. R-squared:                  0.153\n",
      "Method:                 Least Squares   F-statistic:                     28.03\n",
      "Date:                Tue, 23 May 2017   Prob (F-statistic):           2.53e-68\n",
      "Time:                        11:16:15   Log-Likelihood:                -6091.8\n",
      "No. Observations:                2100   AIC:                         1.221e+04\n",
      "Df Residuals:                    2085   BIC:                         1.230e+04\n",
      "Df Model:                          14                                         \n",
      "Covariance Type:            nonrobust                                         \n",
      "=============================================================================================\n",
      "                                coef    std err          t      P>|t|      [95.0% Conf. Int.]\n",
      "---------------------------------------------------------------------------------------------\n",
      "Intercept                    14.7388      0.550     26.796      0.000        13.660    15.817\n",
      "C(country)[T.1]               2.2281      0.204     10.907      0.000         1.827     2.629\n",
      "C(country)[T.2]               1.3154      0.712      1.846      0.065        -0.082     2.712\n",
      "C(ibd)[T.1]                  -2.0394      0.552     -3.697      0.000        -3.121    -0.958\n",
      "C(ibd)[T.2]                   0.8151      1.128      0.722      0.470        -1.398     3.028\n",
      "C(ibs)[T.1]                  -0.7935      0.301     -2.633      0.009        -1.385    -0.202\n",
      "C(ibs)[T.2]                  -0.9646      0.373     -2.585      0.010        -1.696    -0.233\n",
      "C(sex)[T.1]                  -2.6796      0.636     -4.212      0.000        -3.927    -1.432\n",
      "C(sleep_duration)[T.1]        0.3599      0.325      1.108      0.268        -0.277     0.997\n",
      "C(sleep_duration)[T.2]        0.6794      0.316      2.150      0.032         0.060     1.299\n",
      "C(sleep_duration)[T.3]        0.6042      0.392      1.540      0.124        -0.165     1.374\n",
      "antibiotic_history           -0.7433      0.110     -6.732      0.000        -0.960    -0.527\n",
      "age_corrected                 0.0348      0.009      3.969      0.000         0.018     0.052\n",
      "age_corrected:C(sex)[T.1]     0.0427      0.013      3.366      0.001         0.018     0.068\n",
      "types_of_plants               0.4988      0.092      5.438      0.000         0.319     0.679\n",
      "==============================================================================\n",
      "Omnibus:                       33.628   Durbin-Watson:                   1.987\n",
      "Prob(Omnibus):                  0.000   Jarque-Bera (JB):               34.855\n",
      "Skew:                           0.307   Prob(JB):                     2.70e-08\n",
      "Kurtosis:                       3.149   Cond. No.                         661.\n",
      "==============================================================================\n",
      "\n",
      "Warnings:\n",
      "[1] Standard Errors assume that the covariance matrix of the errors is correctly specified.\n"
     ]
    }
   ],
   "source": [
    "fit1 = smf.ols('faiths_pd_5000 ~ C(country) + C(ibd) + C(ibs) + antibiotic_history + age_corrected*C(sex)'\n",
    "               ' + (types_of_plants) + C(sleep_duration)', \n",
    "               data=smap_numeric).fit()\n",
    "print(fit1.summary())"
   ]
  },
  {
   "cell_type": "code",
   "execution_count": null,
   "metadata": {
    "collapsed": true
   },
   "outputs": [],
   "source": []
  }
 ],
 "metadata": {
  "kernelspec": {
   "display_name": "Python 3",
   "language": "python",
   "name": "python3"
  },
  "language_info": {
   "codemirror_mode": {
    "name": "ipython",
    "version": 3
   },
   "file_extension": ".py",
   "mimetype": "text/x-python",
   "name": "python",
   "nbconvert_exporter": "python",
   "pygments_lexer": "ipython3",
   "version": "3.6.0"
  }
 },
 "nbformat": 4,
 "nbformat_minor": 2
}
