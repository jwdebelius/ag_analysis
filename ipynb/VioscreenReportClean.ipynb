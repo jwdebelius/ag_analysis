{
 "cells": [
  {
   "cell_type": "markdown",
   "metadata": {},
   "source": [
    "**Author**: Justine Debelius<br>\n",
    "**email**: jdebelius@ucsd.edu<br>\n",
    "**enviroment**: agp_2017<br>\n",
    "**Date**: 27 April 2017"
   ]
  },
  {
   "cell_type": "markdown",
   "metadata": {},
   "source": [
    "This notebook will take the vioscreen export files, convert them to a csv which python can process, and assemble them as a concatenated per-subject file for data process.\n",
    "\n",
    "Raw files were downloaded from the VIOSCREEN website through the GUI portal, and labeled as \"vioscreen_report\" with a date range."
   ]
  },
  {
   "cell_type": "code",
   "execution_count": 1,
   "metadata": {
    "collapsed": true
   },
   "outputs": [],
   "source": [
    "import os\n",
    "import re\n",
    "\n",
    "import numpy as np\n",
    "import pandas as pd"
   ]
  },
  {
   "cell_type": "markdown",
   "metadata": {},
   "source": [
    "We'll start by listing all the vioscreen files, and then converting them from the downloaded csv format, which is not pandas compatable, to a more compatable format."
   ]
  },
  {
   "cell_type": "code",
   "execution_count": 2,
   "metadata": {
    "collapsed": true
   },
   "outputs": [],
   "source": [
    "vioscreen_dir = './01.metadata/vioscreen_reports/'"
   ]
  },
  {
   "cell_type": "code",
   "execution_count": 3,
   "metadata": {
    "collapsed": true
   },
   "outputs": [],
   "source": [
    "# Gets the filepaths for unconverted files\n",
    "fps = [os.path.join(vioscreen_dir, f_) \n",
    "       for f_ in os.listdir(vioscreen_dir) \n",
    "       if (('.csv' in f_) and ('conv.csv' not in f_))]\n",
    "\n",
    "# Converts the files to a useful format\n",
    "for fp in fps:\n",
    "    new_fp = fp.replace('.csv', '_conv.csv')\n",
    "    !iconv -c -f \"UTF-16LE\" -t \"US-ASCII\" $fp > $new_fp"
   ]
  },
  {
   "cell_type": "markdown",
   "metadata": {},
   "source": [
    "The reports are then read into pandas, and concatenated into a single file."
   ]
  },
  {
   "cell_type": "code",
   "execution_count": 4,
   "metadata": {
    "collapsed": true
   },
   "outputs": [],
   "source": [
    "reports = pd.concat([pd.read_csv(os.path.join(vioscreen_dir, f_), sep=',', dtype=str) \n",
    "                     for f_ in os.listdir(vioscreen_dir) if ('conv.csv' in f_)])"
   ]
  },
  {
   "cell_type": "markdown",
   "metadata": {},
   "source": [
    "We massage the columns slightly. The comma in the protocol is converted to a `--` to make csv conversion easier.\n",
    "We also need to strip the `-160` from the username; this is added by the vioscreen database adn does not line up with the survey id stored by the American Gut database."
   ]
  },
  {
   "cell_type": "code",
   "execution_count": 5,
   "metadata": {
    "collapsed": true
   },
   "outputs": [],
   "source": [
    "reports['Protocol'].replace('Knight Lab, University of Colorado Boulder', \n",
    "                            'Knight Lab -- University of Colorado Boulder',\n",
    "                            inplace=True)\n",
    "reports['Username'] = reports['Username'].apply(lambda x: x.replace('-160', ''))"
   ]
  },
  {
   "cell_type": "markdown",
   "metadata": {},
   "source": [
    "We'll drop columns we won't use. These columns are maintained for vioscreen, but we do not use them, or because there is no information contained in the column."
   ]
  },
  {
   "cell_type": "code",
   "execution_count": 6,
   "metadata": {
    "collapsed": true
   },
   "outputs": [],
   "source": [
    "drop_columns = ['RECNO',\n",
    "                'TIME',\n",
    "                'SRVID',\n",
    "                'NutrientRecommendation',\n",
    "                'Gender',\n",
    "                'Age',\n",
    "                'Height',\n",
    "                'Weight',\n",
    "                'BMI',\n",
    "                'EER',\n",
    "                'ActivityLevel',\n",
    "                'Visit',\n",
    "                'SubjectId',\n",
    "                'UserId',\n",
    "                'DOB',\n",
    "                'Email',\n",
    "                'scf',\n",
    "                'scfv',\n",
    "                'VitaminC',\n",
    "                'VitaminCFreq',\n",
    "                'VitaminCDose',\n",
    "                'VitaminCAvg',\n",
    "                'FishOil',\n",
    "                'FishOilFreq',\n",
    "                'FishOilDose',\n",
    "                'FishOilAvg']\n",
    "reports.drop(labels=drop_columns, axis='columns', inplace=True)"
   ]
  },
  {
   "cell_type": "markdown",
   "metadata": {},
   "source": [
    "Finally, we'll convert most of the remaining column names to snake case, which is the standard used for other projects, and prefix them with `vioscreen`.\n",
    "\n",
    "To do this, we'll write a quick function to convert to snake case."
   ]
  },
  {
   "cell_type": "code",
   "execution_count": 7,
   "metadata": {
    "collapsed": true
   },
   "outputs": [],
   "source": [
    "def convert_to_snake(camel):\n",
    "    \"\"\"Converts from CamelCase to snake_case\n",
    "    \n",
    "    Based on the answer provided in the Stack overflow question:\n",
    "    http://stackoverflow.com/questions/1175208/\n",
    "    \n",
    "    Parameters\n",
    "    ----------\n",
    "    camel : str\n",
    "        The CamelCase string to convert\n",
    "        \n",
    "    Returns\n",
    "    -------\n",
    "    str\n",
    "        a snake_case string\n",
    "        \n",
    "    \n",
    "    \"\"\"\n",
    "    s1 = re.sub('(.)([A-Z][a-z]+)', r'\\1_\\2', camel)\n",
    "    return re.sub('([a-z0-9])([A-Z])', r'\\1_\\2', s1).lower()"
   ]
  },
  {
   "cell_type": "code",
   "execution_count": 8,
   "metadata": {
    "collapsed": true
   },
   "outputs": [],
   "source": [
    "new_vioscreen_columns = {c: 'vioscreen_%s' % convert_to_snake(c)\n",
    "                         for c in reports.columns\n",
    "                         if c not in {'Username'}\n",
    "                         }"
   ]
  },
  {
   "cell_type": "code",
   "execution_count": 9,
   "metadata": {
    "collapsed": true
   },
   "outputs": [],
   "source": [
    "reports.rename(columns=new_vioscreen_columns, inplace=True)"
   ]
  },
  {
   "cell_type": "markdown",
   "metadata": {},
   "source": [
    "Finally, we'll set the username as the index, and then save the file. Missing values will be coded as \"Unspecified\", which is the standard for American Gut."
   ]
  },
  {
   "cell_type": "code",
   "execution_count": 10,
   "metadata": {
    "collapsed": true
   },
   "outputs": [],
   "source": [
    "reports.set_index('Username', inplace=True)"
   ]
  },
  {
   "cell_type": "code",
   "execution_count": 11,
   "metadata": {
    "collapsed": true
   },
   "outputs": [],
   "source": [
    "reports.to_csv('./01.metadata/vioscreen_nutrient_report.txt', sep='\\t', index_label='survey_id', na_rep=\"Unspecified\")"
   ]
  },
  {
   "cell_type": "markdown",
   "metadata": {},
   "source": [
    "The report file can now be combined with the metadata, using the survey_id."
   ]
  }
 ],
 "metadata": {
  "kernelspec": {
   "display_name": "Python 3",
   "language": "python",
   "name": "python3"
  },
  "language_info": {
   "codemirror_mode": {
    "name": "ipython",
    "version": 3
   },
   "file_extension": ".py",
   "mimetype": "text/x-python",
   "name": "python",
   "nbconvert_exporter": "python",
   "pygments_lexer": "ipython3",
   "version": "3.6.0"
  }
 },
 "nbformat": 4,
 "nbformat_minor": 2
}
